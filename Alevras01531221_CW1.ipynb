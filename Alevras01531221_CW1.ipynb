{
 "cells": [
  {
   "cell_type": "markdown",
   "metadata": {
    "id": "4xHSx8l1tUYN"
   },
   "source": [
    "# Coursework 1 - Supervised Learning"
   ]
  },
  {
   "cell_type": "markdown",
   "metadata": {},
   "source": [
    "__Name__: Georgios Alevras <br> __CID__: 01531221 <br> __Date__: 23/02/2022"
   ]
  },
  {
   "cell_type": "markdown",
   "metadata": {},
   "source": [
    "<a name=\"outline\"></a>\n",
    "\n",
    "## Outline\n",
    "\n",
    "- [Preliminaries](#preliminaries): Exploratory Data Analysis\n",
    "- [Task 1](#task-1): Regression\n",
    "  - [1.1](#q11) Linear Regression\n",
    "  - [1.2](#q12) Ridge Regression\n",
    "  - [1.3](#q13) Relaxation of Lasso Regression\n",
    "- [Task 2](#task-2): Classification\n",
    "  - [2.1](#q21) k-NN Classifier\n",
    "  - [2.2](#q22) Random Forest \n",
    "  - [2.3](#q23) Support Vector Machine (SVM) \n",
    "- [Task 3](#task-3): Mastery Component \n",
    "  - [3.1](#q31) Logistic Regression and Bagging \n",
    "  - [3.2](#q32) Kernelised SVM Classifier "
   ]
  },
  {
   "cell_type": "markdown",
   "metadata": {},
   "source": [
    "<a name=\"preliminaries\"></a>\n",
    "# Preliminaries: Exploratory Data Analysis [^](#outline)"
   ]
  },
  {
   "cell_type": "code",
   "execution_count": 1,
   "metadata": {},
   "outputs": [],
   "source": [
    "# All packages used in this coursework are imported here.\n",
    "import numpy as np\n",
    "import pandas as pd\n",
    "import matplotlib.pyplot as plt"
   ]
  },
  {
   "cell_type": "markdown",
   "metadata": {},
   "source": [
    "First, we import the data set found in `./Data/chemistry_samples.csv` using the pandas package and inspect it."
   ]
  },
  {
   "cell_type": "code",
   "execution_count": 2,
   "metadata": {},
   "outputs": [
    {
     "data": {
      "text/html": [
       "<div>\n",
       "<style scoped>\n",
       "    .dataframe tbody tr th:only-of-type {\n",
       "        vertical-align: middle;\n",
       "    }\n",
       "\n",
       "    .dataframe tbody tr th {\n",
       "        vertical-align: top;\n",
       "    }\n",
       "\n",
       "    .dataframe thead th {\n",
       "        text-align: right;\n",
       "    }\n",
       "</style>\n",
       "<table border=\"1\" class=\"dataframe\">\n",
       "  <thead>\n",
       "    <tr style=\"text-align: right;\">\n",
       "      <th></th>\n",
       "      <th>CIC0</th>\n",
       "      <th>SM1_Dz(Z)</th>\n",
       "      <th>GATS1i</th>\n",
       "      <th>NdsCH</th>\n",
       "      <th>NdssC</th>\n",
       "      <th>MLOGP</th>\n",
       "      <th>FV1</th>\n",
       "      <th>VFV</th>\n",
       "      <th>FV2</th>\n",
       "      <th>FV3</th>\n",
       "      <th>LC50</th>\n",
       "    </tr>\n",
       "  </thead>\n",
       "  <tbody>\n",
       "    <tr>\n",
       "      <th>0</th>\n",
       "      <td>3.661280</td>\n",
       "      <td>0.658363</td>\n",
       "      <td>1.602232</td>\n",
       "      <td>1.994272</td>\n",
       "      <td>0.836488</td>\n",
       "      <td>3.153623</td>\n",
       "      <td>15.893033</td>\n",
       "      <td>-27.724370</td>\n",
       "      <td>0.059355</td>\n",
       "      <td>0.756698</td>\n",
       "      <td>5.506249</td>\n",
       "    </tr>\n",
       "    <tr>\n",
       "      <th>1</th>\n",
       "      <td>3.936362</td>\n",
       "      <td>1.154287</td>\n",
       "      <td>1.146997</td>\n",
       "      <td>0.904295</td>\n",
       "      <td>2.948308</td>\n",
       "      <td>5.141095</td>\n",
       "      <td>13.590177</td>\n",
       "      <td>-31.821521</td>\n",
       "      <td>-13.408855</td>\n",
       "      <td>1.161298</td>\n",
       "      <td>6.636791</td>\n",
       "    </tr>\n",
       "    <tr>\n",
       "      <th>2</th>\n",
       "      <td>0.964144</td>\n",
       "      <td>0.415485</td>\n",
       "      <td>1.481028</td>\n",
       "      <td>2.136585</td>\n",
       "      <td>0.043679</td>\n",
       "      <td>-1.156783</td>\n",
       "      <td>15.989419</td>\n",
       "      <td>-3.699312</td>\n",
       "      <td>2.561525</td>\n",
       "      <td>0.500115</td>\n",
       "      <td>1.563388</td>\n",
       "    </tr>\n",
       "    <tr>\n",
       "      <th>3</th>\n",
       "      <td>2.074617</td>\n",
       "      <td>1.417296</td>\n",
       "      <td>0.486216</td>\n",
       "      <td>0.000908</td>\n",
       "      <td>-0.066980</td>\n",
       "      <td>2.610960</td>\n",
       "      <td>7.962046</td>\n",
       "      <td>-16.374439</td>\n",
       "      <td>2.448975</td>\n",
       "      <td>1.481888</td>\n",
       "      <td>6.248432</td>\n",
       "    </tr>\n",
       "    <tr>\n",
       "      <th>4</th>\n",
       "      <td>1.448569</td>\n",
       "      <td>0.836892</td>\n",
       "      <td>1.951012</td>\n",
       "      <td>0.028318</td>\n",
       "      <td>-0.039121</td>\n",
       "      <td>1.851095</td>\n",
       "      <td>22.285266</td>\n",
       "      <td>-9.526361</td>\n",
       "      <td>2.870400</td>\n",
       "      <td>0.649234</td>\n",
       "      <td>3.676796</td>\n",
       "    </tr>\n",
       "  </tbody>\n",
       "</table>\n",
       "</div>"
      ],
      "text/plain": [
       "       CIC0  SM1_Dz(Z)    GATS1i     NdsCH     NdssC     MLOGP        FV1  \\\n",
       "0  3.661280   0.658363  1.602232  1.994272  0.836488  3.153623  15.893033   \n",
       "1  3.936362   1.154287  1.146997  0.904295  2.948308  5.141095  13.590177   \n",
       "2  0.964144   0.415485  1.481028  2.136585  0.043679 -1.156783  15.989419   \n",
       "3  2.074617   1.417296  0.486216  0.000908 -0.066980  2.610960   7.962046   \n",
       "4  1.448569   0.836892  1.951012  0.028318 -0.039121  1.851095  22.285266   \n",
       "\n",
       "         VFV        FV2       FV3      LC50  \n",
       "0 -27.724370   0.059355  0.756698  5.506249  \n",
       "1 -31.821521 -13.408855  1.161298  6.636791  \n",
       "2  -3.699312   2.561525  0.500115  1.563388  \n",
       "3 -16.374439   2.448975  1.481888  6.248432  \n",
       "4  -9.526361   2.870400  0.649234  3.676796  "
      ]
     },
     "execution_count": 2,
     "metadata": {},
     "output_type": "execute_result"
    }
   ],
   "source": [
    "# Loading the sample data set using the pandas read_csv method into a pandas DataFrame.\n",
    "df_chemistry_samples = pd.read_csv('./Data/chemistry_samples.csv')\n",
    "# Outputing the first 5 samples (rows) to inspect the data.\n",
    "df_chemistry_samples.head()"
   ]
  },
  {
   "cell_type": "markdown",
   "metadata": {},
   "source": [
    "We observe that our data is comprised of 10 descriptors (columns 1-10, CIC0 to FV3) and a target variable (column 11) which is the toxicity factor, LC50. We then make sure that the data is 'clean' by ensuring there are no empty / NaN entries, and that all data is of the appropriate type, in this case float."
   ]
  },
  {
   "cell_type": "code",
   "execution_count": 3,
   "metadata": {},
   "outputs": [],
   "source": [
    "# We obtain an array of the data-type of all columns\n",
    "data_type = np.array([df_chemistry_samples.dtypes[i] for i in range(df_chemistry_samples.shape[1])])\n",
    "assert(data_type.all() == float)  # we assert that all columns are of type float\n",
    "assert(df_chemistry_samples.isnull().values.any() == False)  # we assert that there is no empty / NaN entry in any column"
   ]
  },
  {
   "cell_type": "markdown",
   "metadata": {},
   "source": [
    "The assertions return True, thus, we confirm the data set is 'clean'."
   ]
  },
  {
   "cell_type": "markdown",
   "metadata": {
    "id": "J3sSxTA3yzhN"
   },
   "source": [
    "<a name=\"task-1\"></a>\n",
    "# Task 1: Regression [^](#outline)\n",
    "\n"
   ]
  },
  {
   "cell_type": "markdown",
   "metadata": {
    "id": "1gY8lFgnyzsF"
   },
   "source": [
    "<a name=\"q11\"></a>\n",
    "\n",
    "## 1.1 Linear Regression [^](#outline)\n",
    "\n"
   ]
  },
  {
   "cell_type": "markdown",
   "metadata": {},
   "source": [
    "Text to explain linear rigression."
   ]
  },
  {
   "cell_type": "code",
   "execution_count": 4,
   "metadata": {},
   "outputs": [],
   "source": [
    "def maximum_likelihood_estimate(X, y):\n",
    "    # X: matrix containing the descriptor variables, dimensions: N x p\n",
    "    # y: vector containing target observed variable, dimensions: N x 1\n",
    "    # returns: beta_ml -> maximum likelihood estimate parameters, dimensions:  p x 1\n",
    "    \n",
    "    X_aug = np.hstack([np.ones((X.shape[0],1)), X])  # augment matrix X to include constant terms\n",
    "    beta_ml = np.linalg.solve(X_aug.T @ X_aug, X_aug.T @ y)  # explicit minimisation to obtain vector of parameters\n",
    "    return beta_ml"
   ]
  },
  {
   "cell_type": "code",
   "execution_count": 5,
   "metadata": {},
   "outputs": [],
   "source": [
    "def r2_score(y_true, y_predicted):\n",
    "    # y_true: ground truth target values\n",
    "    # y_predicted: predicted / estimated target values\n",
    "    # returns: R2 score, i.e., coefficient of determination regression score function\n",
    "\n",
    "    sum_of_squares_of_residuals = np.array((y_true - y_predicted)**2).sum()  # obtain the residual sum of squares\n",
    "    total_sum_of_squares = np.array((y_true - np.mean(y_true))**2).sum()  # obtain the total sum of squares\n",
    "    return 1 - sum_of_squares_of_residuals/total_sum_of_squares"
   ]
  },
  {
   "cell_type": "code",
   "execution_count": 6,
   "metadata": {},
   "outputs": [
    {
     "name": "stdout",
     "output_type": "stream",
     "text": [
      "[ 2.61638041e+00  4.47138333e-02  1.25871884e+00 -3.80092766e-02\n",
      "  3.63073448e-01  4.66534885e-03  3.90510052e-01 -7.46028629e-02\n",
      " -3.57069460e-02 -1.52588258e-02 -1.80315940e-03]\n"
     ]
    }
   ],
   "source": [
    "X = df_chemistry_samples.iloc[:, 0:10]  # load descriptors into matrix of descriptors\n",
    "X_aug = np.hstack([np.ones((X.shape[0],1)), X])  # augment matrix of descriptors to include constant terms\n",
    "y = df_chemistry_samples.iloc[:, 10]  # load ground truth target variable vector\n",
    "\n",
    "# Get the maximum likelihood estimate parameters\n",
    "beta_ml = maximum_likelihood_estimate(X,y)\n",
    "print(beta_ml)"
   ]
  },
  {
   "cell_type": "code",
   "execution_count": 7,
   "metadata": {},
   "outputs": [],
   "source": [
    "def predict_using_estimate(X, beta):\n",
    "    # X: matrix containing the descriptor variables\n",
    "    # beta: vector of parameters\n",
    "    # returns: prediction of f(X)\n",
    "    \n",
    "    return X @ beta"
   ]
  },
  {
   "cell_type": "code",
   "execution_count": 8,
   "metadata": {},
   "outputs": [
    {
     "name": "stdout",
     "output_type": "stream",
     "text": [
      "Sample data R2-score:  0.8718259975718016\n"
     ]
    }
   ],
   "source": [
    "y_predicted = predict_using_estimate(X_aug, beta_ml)  # Obtain predicted target values\n",
    "r2_score_sample = r2_score(y, y_predicted)  # Compute R2 score for ground truth and predicted target variable\n",
    "print('Sample data R2-score: ', r2_score_sample)"
   ]
  },
  {
   "cell_type": "code",
   "execution_count": 9,
   "metadata": {},
   "outputs": [
    {
     "name": "stdout",
     "output_type": "stream",
     "text": [
      "Test data R2-score:  0.8642933369927286\n"
     ]
    }
   ],
   "source": [
    "# Loading the test data set using the pandas read_csv method into a pandas DataFrame.\n",
    "df_chemistry_test = pd.read_csv('./Data/chemistry_test.csv')\n",
    "\n",
    "X_test = df_chemistry_test.iloc[:, 0:10]  # load descriptors into matrix of descriptors\n",
    "X_aug_test = np.hstack([np.ones((X_test.shape[0],1)), X_test])  # augment matrix of descriptors to include constant terms\n",
    "\n",
    "y_test = df_chemistry_test.iloc[:, 10]  # load ground truth target variable vector\n",
    "predicted_y_test = predict_using_estimate(X_aug_test, beta_ml)  # Obtain predicted target values\n",
    "\n",
    "r2_score_test = r2_score(y_test, predicted_y_test)  # Compute R2 score for ground truth and predicted target variable\n",
    "print('Test data R2-score: ', r2_score_test)"
   ]
  },
  {
   "cell_type": "markdown",
   "metadata": {
    "id": "gpbJPhupy0Cj"
   },
   "source": [
    "<a name=\"q12\"></a>\n",
    "## 1.2 Ridge Regression [^](#outline)"
   ]
  },
  {
   "cell_type": "markdown",
   "metadata": {},
   "source": [
    "Text to explain ridge regression."
   ]
  },
  {
   "cell_type": "code",
   "execution_count": 10,
   "metadata": {},
   "outputs": [],
   "source": [
    "def ridge_estimate(X, y, penalty):\n",
    "    # X: matrix containing the descriptor variables, dimensions: N x p\n",
    "    # y: vector containing target observed variable, dimensions: N x 1\n",
    "    # returns: beta_ridge -> maximum likelihood estimate parameters, dimensions:  p x 1\n",
    "    \n",
    "    N, D = X.shape  # dimensions of matrix X\n",
    "    X_aug = np.hstack([np.ones((N,1)), X])  # augment matrix X to include constant terms\n",
    "    N_aug, D_aug = X_aug.shape  # dimensions of augmented matrix X_aug\n",
    "    I = np.identity(D_aug)  # identity matrix of dimensions D_aug x D_aug\n",
    "    # To improve the shrinkage properties of Ridge Regression so that it is not dominated by large values of the intercept of the linear model\n",
    "    I[0,0] = 0\n",
    "    # Explicit minimisation to obtain vector of parameters\n",
    "    beta_ridge = np.linalg.solve(X_aug.T @ X_aug + penalty * I, X_aug.T @ y)\n",
    "    return beta_ridge"
   ]
  },
  {
   "cell_type": "markdown",
   "metadata": {},
   "source": [
    "To tune the penalty hyper-parameter using 5-fold cross-validation, we want to shuffle our data (rows in $\\boldsymbol{X}$ and $\\boldsymbol{y}$), create 5 sets (folds) where 4 are used for training and 1 is used for testing. The ridge regression model is run for all combinations of training and test sets over the 5 sets and the average mean squared errors, $\\langle\\text{MSE}\\rangle$, are obtained over all folds. The penalty term is varied to see how the $\\langle\\text{MSE}\\rangle$ changes, aiming to find the optimum penalty term, i.e., the one that minimises the $\\langle\\text{MSE}\\rangle$."
   ]
  },
  {
   "cell_type": "code",
   "execution_count": 11,
   "metadata": {},
   "outputs": [],
   "source": [
    "X_copy = X.copy()\n",
    "y_copy = y.copy()\n",
    "\n",
    "X_copy = np.array(X_copy[:-1]) # removing the last element in order to have 5 equal-sized folds (which requires an even number of samples)\n",
    "y_copy = np.array(y_copy[:-1]) # removing the last element in order to have 5 equal-sized folds (which requires an even number of samples)\n",
    "\n",
    "np.random.seed(10)\n",
    "p = np.random.permutation(len(y_copy))\n",
    "X_copy = X_copy[p]\n",
    "y_copy = y_copy[p]\n",
    "\n",
    "# We obtain a list of the 5 index arrays, i.e., the 5 folds\n",
    "folds_indexes = np.split(np.arange(len(y_copy)), 5)"
   ]
  },
  {
   "cell_type": "code",
   "execution_count": 12,
   "metadata": {},
   "outputs": [],
   "source": [
    "def mean_square_error(y_true, y_predicted):\n",
    "    return np.array((y_true - y_predicted)**2).sum()"
   ]
  },
  {
   "cell_type": "code",
   "execution_count": 13,
   "metadata": {},
   "outputs": [],
   "source": [
    "def predicted_variance(y_predicted):\n",
    "    total_sum_of_squares = np.array((y_true - np.mean(y_true))**2).sum()"
   ]
  },
  {
   "cell_type": "code",
   "execution_count": 14,
   "metadata": {},
   "outputs": [],
   "source": [
    "def ridge_cross_validation_score(X, y, folds, penalty):\n",
    "    scores = []\n",
    "    for i in range(len(folds)):\n",
    "        validation_fold_indexes = folds[i]\n",
    "        training_fold_indexes = list(set(range(y.shape[0])) - set(validation_fold_indexes))\n",
    "        \n",
    "        X_training = X[training_fold_indexes, :]\n",
    "        y_training = y[training_fold_indexes]\n",
    "\n",
    "        X_validation = X[validation_fold_indexes, :]\n",
    "        y_validation = y[validation_fold_indexes]\n",
    "        \n",
    "        beta_ridge = ridge_estimate(X_training, y_training, penalty)\n",
    "        X_validation_aug = np.hstack([np.ones((X_validation.shape[0], 1)), X_validation])\n",
    "        y_predicted = predict_using_estimate(X_validation_aug, beta_ridge)\n",
    "        scores.append(mean_square_error(y_validation, y_predicted))\n",
    "\n",
    "    # Return the average score\n",
    "    return sum(scores) / len(scores)"
   ]
  },
  {
   "cell_type": "code",
   "execution_count": 15,
   "metadata": {},
   "outputs": [],
   "source": [
    "def ridge_choose_best_penalty(X, y, folds, penalty_range):\n",
    "  penalty_scores = np.zeros((len(penalty_range),))\n",
    "  \n",
    "  for i, p in enumerate(penalty_range):\n",
    "    penalty_scores[i] = ridge_cross_validation_score(X, y, folds, p)\n",
    "\n",
    "  best_penalty_index = np.argmin(penalty_scores)\n",
    "  return penalty_scores, penalty_range[best_penalty_index]"
   ]
  },
  {
   "cell_type": "code",
   "execution_count": 16,
   "metadata": {},
   "outputs": [
    {
     "data": {
      "image/png": "[encoded data removed]",
      "text/plain": [
       "<Figure size 432x288 with 1 Axes>"
      ]
     },
     "metadata": {
      "needs_background": "light"
     },
     "output_type": "display_data"
    },
    {
     "name": "stdout",
     "output_type": "stream",
     "text": [
      "Best penalty term: 0.752\n"
     ]
    }
   ],
   "source": [
    "penalty_scores_ridge, best_penalty_ridge = ridge_choose_best_penalty(X_copy, y_copy, folds_indexes, np.linspace(0, 2, 1001))\n",
    "\n",
    "plt.plot(np.linspace(0, 2, 1001), penalty_scores_ridge)\n",
    "plt.xlabel(r'$\\lambda$')\n",
    "plt.ylabel(r'$\\langle MSE \\rangle$')\n",
    "plt.show()\n",
    "print('Best penalty term:', best_penalty_ridge)"
   ]
  },
  {
   "cell_type": "code",
   "execution_count": 17,
   "metadata": {},
   "outputs": [
    {
     "name": "stdout",
     "output_type": "stream",
     "text": [
      "Ridge Sample data R2-score:  0.8718249167946791\n",
      "Ridge Test data R2-score:  0.8648403944644114\n"
     ]
    }
   ],
   "source": [
    "beta_ridge = ridge_estimate(X, y, best_penalty_ridge)\n",
    "predicted_y = predict_using_estimate(X_aug, beta_ridge)\n",
    "r2_score_sample_ridge = r2_score(y, predicted_y)  # Compute R2 score for ground truth and predicted target variable\n",
    "print('Ridge Sample data R2-score: ', r2_score_sample_ridge)\n",
    "\n",
    "beta_ridge_test = ridge_estimate(X_test, y_test, best_penalty_ridge)\n",
    "predicted_y_test = predict_using_estimate(X_aug_test, beta_ridge_test)\n",
    "r2_score_test_ridge = r2_score(y_test, predicted_y_test)  # Compute R2 score for ground truth and predicted target variable\n",
    "print('Ridge Test data R2-score: ', r2_score_test_ridge)"
   ]
  },
  {
   "cell_type": "markdown",
   "metadata": {
    "id": "K9OTrzYly0Oz"
   },
   "source": [
    "<a name=\"q13\"></a>\n",
    "\n",
    "## 1.3 Relaxation of Lasso Regression [^](#outline)\n",
    "\n",
    "\n"
   ]
  },
  {
   "cell_type": "code",
   "execution_count": 18,
   "metadata": {
    "id": "jg2TWPoT0J0Z"
   },
   "outputs": [],
   "source": [
    "def huber(beta, c=1e-6):\n",
    "    if abs(beta) <= c:\n",
    "        return 0.5*beta**2\n",
    "    else:\n",
    "        return c*(abs(beta) - 0.5*c)\n",
    "\n",
    "    \n",
    "def grad_huber(beta, c=1e-6):\n",
    "    if abs(beta) <= c:\n",
    "        return beta\n",
    "    else:\n",
    "        return np.sign(beta)*c\n",
    "\n",
    "vectorized_grad_huber = np.vectorize(grad_huber)"
   ]
  },
  {
   "cell_type": "code",
   "execution_count": 19,
   "metadata": {
    "id": "U7hMrAxK0LQN"
   },
   "outputs": [],
   "source": [
    "def minimize_ls_huber(X, y, lambd, n_iters=10000, step_size=1e-3):\n",
    "    n, p = X.shape\n",
    "    XX = X.T @ X / n\n",
    "    Xy = (X.T @ y / n).reshape(-1, 1)\n",
    "    \n",
    "    # next line: initialise betas\n",
    "    beta = np.zeros(shape=(p, 1))\n",
    "    \n",
    "    for i in range(n_iters):\n",
    "        grad = -2 * Xy + 2 * XX @ beta + lambd * vectorized_grad_huber(beta)\n",
    "        # next line: gradient descent update\n",
    "        beta = beta - step_size*grad\n",
    "    \n",
    "    return beta"
   ]
  },
  {
   "cell_type": "code",
   "execution_count": 20,
   "metadata": {},
   "outputs": [
    {
     "data": {
      "text/plain": [
       "<AxesSubplot:>"
      ]
     },
     "execution_count": 20,
     "metadata": {},
     "output_type": "execute_result"
    },
    {
     "data": {
      "image/png": "[encoded data removed]",
      "text/plain": [
       "<Figure size 720x720 with 1 Axes>"
      ]
     },
     "metadata": {
      "needs_background": "light"
     },
     "output_type": "display_data"
    }
   ],
   "source": [
    "beta_lasso = minimize_ls_huber(X_aug, y, 0, n_iters=10000, step_size=1e-3)\n",
    "\n",
    "beta_l = pd.DataFrame(beta_lasso)\n",
    "beta_m = pd.DataFrame(beta_ml)\n",
    "conc = pd.concat([beta_l, beta_m], axis=1)\n",
    "conc.columns = ['Lasso', 'LR']\n",
    "conc.plot.bar(figsize=(10, 10))"
   ]
  },
  {
   "cell_type": "code",
   "execution_count": 21,
   "metadata": {},
   "outputs": [],
   "source": [
    "def lasso_cross_validation_score(X, y, folds, penalty):\n",
    "    scores = []\n",
    "    for i in range(len(folds)):\n",
    "        validation_fold_indexes = folds[i]\n",
    "        training_fold_indexes = list(set(range(y.shape[0])) - set(validation_fold_indexes))\n",
    "        \n",
    "        X_training = X[training_fold_indexes, :]\n",
    "        y_training = y[training_fold_indexes]\n",
    "\n",
    "        X_validation = X[validation_fold_indexes, :]\n",
    "        y_validation = y[validation_fold_indexes]\n",
    "        \n",
    "        X_training_aug = np.hstack([np.ones((X_training.shape[0],1)), X_training])\n",
    "        beta_lasso = minimize_ls_huber(X_training_aug, y_training, penalty)\n",
    "        \n",
    "        X_validation_aug = np.hstack([np.ones((X_validation.shape[0], 1)), X_validation])\n",
    "        y_predicted = predict_using_estimate(X_validation_aug, beta_lasso)\n",
    "        \n",
    "        scores.append(mean_square_error(y_validation, y_predicted))\n",
    "\n",
    "    # Return the average score\n",
    "    return sum(scores) / len(scores)"
   ]
  },
  {
   "cell_type": "code",
   "execution_count": 22,
   "metadata": {},
   "outputs": [],
   "source": [
    "def lasso_choose_best_penalty(X, y, folds, penalty_range):\n",
    "    penalty_scores = np.zeros((len(penalty_range),))\n",
    "    \n",
    "    for i, p in enumerate(penalty_range):\n",
    "        penalty_scores[i] = lasso_cross_validation_score(X, y, folds, p)\n",
    "    \n",
    "    best_penalty_index = np.argmin(penalty_scores)\n",
    "    return penalty_scores, penalty_range[best_penalty_index]"
   ]
  },
  {
   "cell_type": "code",
   "execution_count": 23,
   "metadata": {},
   "outputs": [
    {
     "data": {
      "image/png": "[encoded data removed]",
      "text/plain": [
       "<Figure size 432x288 with 1 Axes>"
      ]
     },
     "metadata": {
      "needs_background": "light"
     },
     "output_type": "display_data"
    },
    {
     "name": "stdout",
     "output_type": "stream",
     "text": [
      "Best penalty term: 1.0\n"
     ]
    }
   ],
   "source": [
    "penalty_scores_lasso, best_penalty_lasso = lasso_choose_best_penalty(X_copy, y_copy, folds_indexes, np.linspace(0, 1, 11))\n",
    "\n",
    "plt.plot(np.linspace(0, 1, 11), penalty_scores_lasso)\n",
    "plt.xlabel(r'$\\lambda$')\n",
    "plt.ylabel(r'$\\langle MSE \\rangle$')\n",
    "plt.show()\n",
    "print('Best penalty term:', best_penalty_lasso)"
   ]
  },
  {
   "cell_type": "code",
   "execution_count": 24,
   "metadata": {},
   "outputs": [
    {
     "name": "stdout",
     "output_type": "stream",
     "text": [
      "Lasso Sample data R2-score:  0.8308768771732158\n",
      "Lasso Test data R2-score:  0.8233683221899653\n"
     ]
    }
   ],
   "source": [
    "beta_lasso = minimize_ls_huber(X_aug, y, best_penalty_lasso)\n",
    "predicted_y_lasso = predict_using_estimate(X_aug, beta_lasso)\n",
    "y = np.array(y).reshape(-1, 1)\n",
    "r2_score_sample_lasso = r2_score(y, predicted_y_lasso)  # Compute R2 score for ground truth and predicted target variable\n",
    "print('Lasso Sample data R2-score: ', r2_score_sample_lasso)\n",
    "\n",
    "beta_lasso_test = minimize_ls_huber(X_aug_test, y_test, best_penalty_lasso)\n",
    "predicted_y_lasso_test = predict_using_estimate(X_aug_test, beta_lasso_test)\n",
    "y_test = np.array(y_test).reshape(-1, 1)\n",
    "r2_score_test_lasso = r2_score(y_test, predicted_y_lasso_test)  # Compute R2 score for ground truth and predicted target variable\n",
    "print('Lasso Test data R2-score: ', r2_score_test_lasso)"
   ]
  },
  {
   "cell_type": "markdown",
   "metadata": {
    "id": "oi0I8ERdy0mD"
   },
   "source": [
    "<a name=\"task-2\"></a>\n",
    "\n",
    "# Task 2: Classification [^](#outline)"
   ]
  },
  {
   "cell_type": "markdown",
   "metadata": {
    "id": "BgBfTmgpy08Z"
   },
   "source": [
    "<a name=\"q21\"></a>\n",
    "\n",
    "## 2.1 k-NN Classifier [^](#outline)"
   ]
  },
  {
   "cell_type": "code",
   "execution_count": 2,
   "metadata": {},
   "outputs": [
    {
     "data": {
      "text/html": [
       "<div>\n",
       "<style scoped>\n",
       "    .dataframe tbody tr th:only-of-type {\n",
       "        vertical-align: middle;\n",
       "    }\n",
       "\n",
       "    .dataframe tbody tr th {\n",
       "        vertical-align: top;\n",
       "    }\n",
       "\n",
       "    .dataframe thead th {\n",
       "        text-align: right;\n",
       "    }\n",
       "</style>\n",
       "<table border=\"1\" class=\"dataframe\">\n",
       "  <thead>\n",
       "    <tr style=\"text-align: right;\">\n",
       "      <th></th>\n",
       "      <th>Unnamed: 0</th>\n",
       "      <th>n1_radius</th>\n",
       "      <th>n1_texture</th>\n",
       "      <th>n1_perimeter</th>\n",
       "      <th>n1_area</th>\n",
       "      <th>n1_smoothness</th>\n",
       "      <th>n1_compactness</th>\n",
       "      <th>n1_concavity</th>\n",
       "      <th>n1_concave_points</th>\n",
       "      <th>n1_symmetry</th>\n",
       "      <th>...</th>\n",
       "      <th>n3_texture</th>\n",
       "      <th>n3_perimeter</th>\n",
       "      <th>n3_area</th>\n",
       "      <th>n3_smoothness</th>\n",
       "      <th>n3_compactness</th>\n",
       "      <th>n3_concavity</th>\n",
       "      <th>n3_concave_points</th>\n",
       "      <th>n3_symmetry</th>\n",
       "      <th>n3_fractal_dimension</th>\n",
       "      <th>DIAGNOSIS</th>\n",
       "    </tr>\n",
       "  </thead>\n",
       "  <tbody>\n",
       "    <tr>\n",
       "      <th>0</th>\n",
       "      <td>0</td>\n",
       "      <td>10.855170</td>\n",
       "      <td>15.248290</td>\n",
       "      <td>69.167041</td>\n",
       "      <td>359.534878</td>\n",
       "      <td>0.105488</td>\n",
       "      <td>0.080200</td>\n",
       "      <td>0.066410</td>\n",
       "      <td>0.034194</td>\n",
       "      <td>0.182796</td>\n",
       "      <td>...</td>\n",
       "      <td>18.984557</td>\n",
       "      <td>81.443134</td>\n",
       "      <td>466.879302</td>\n",
       "      <td>0.149080</td>\n",
       "      <td>0.200185</td>\n",
       "      <td>0.205695</td>\n",
       "      <td>0.111592</td>\n",
       "      <td>0.335999</td>\n",
       "      <td>0.093477</td>\n",
       "      <td>B</td>\n",
       "    </tr>\n",
       "    <tr>\n",
       "      <th>1</th>\n",
       "      <td>1</td>\n",
       "      <td>10.068958</td>\n",
       "      <td>15.532758</td>\n",
       "      <td>66.130635</td>\n",
       "      <td>330.040665</td>\n",
       "      <td>0.099813</td>\n",
       "      <td>0.109540</td>\n",
       "      <td>0.057583</td>\n",
       "      <td>0.023322</td>\n",
       "      <td>0.195650</td>\n",
       "      <td>...</td>\n",
       "      <td>22.840293</td>\n",
       "      <td>82.133171</td>\n",
       "      <td>473.367822</td>\n",
       "      <td>0.125478</td>\n",
       "      <td>0.330466</td>\n",
       "      <td>0.283304</td>\n",
       "      <td>0.088021</td>\n",
       "      <td>0.312882</td>\n",
       "      <td>0.096158</td>\n",
       "      <td>B</td>\n",
       "    </tr>\n",
       "    <tr>\n",
       "      <th>2</th>\n",
       "      <td>2</td>\n",
       "      <td>12.271409</td>\n",
       "      <td>18.100314</td>\n",
       "      <td>78.195610</td>\n",
       "      <td>421.537832</td>\n",
       "      <td>0.105147</td>\n",
       "      <td>0.095315</td>\n",
       "      <td>0.043317</td>\n",
       "      <td>0.031539</td>\n",
       "      <td>0.188801</td>\n",
       "      <td>...</td>\n",
       "      <td>26.365608</td>\n",
       "      <td>84.598334</td>\n",
       "      <td>620.586067</td>\n",
       "      <td>0.146766</td>\n",
       "      <td>0.118707</td>\n",
       "      <td>0.147900</td>\n",
       "      <td>0.050402</td>\n",
       "      <td>0.291805</td>\n",
       "      <td>0.069556</td>\n",
       "      <td>B</td>\n",
       "    </tr>\n",
       "    <tr>\n",
       "      <th>3</th>\n",
       "      <td>3</td>\n",
       "      <td>10.531733</td>\n",
       "      <td>18.452486</td>\n",
       "      <td>67.227069</td>\n",
       "      <td>340.063033</td>\n",
       "      <td>0.086041</td>\n",
       "      <td>0.049961</td>\n",
       "      <td>0.049709</td>\n",
       "      <td>0.011046</td>\n",
       "      <td>0.203093</td>\n",
       "      <td>...</td>\n",
       "      <td>24.385385</td>\n",
       "      <td>73.296855</td>\n",
       "      <td>429.675600</td>\n",
       "      <td>0.100060</td>\n",
       "      <td>0.143683</td>\n",
       "      <td>0.177225</td>\n",
       "      <td>0.028111</td>\n",
       "      <td>0.287749</td>\n",
       "      <td>0.073174</td>\n",
       "      <td>B</td>\n",
       "    </tr>\n",
       "    <tr>\n",
       "      <th>4</th>\n",
       "      <td>4</td>\n",
       "      <td>12.367686</td>\n",
       "      <td>14.399191</td>\n",
       "      <td>80.643814</td>\n",
       "      <td>460.849710</td>\n",
       "      <td>0.106410</td>\n",
       "      <td>0.101420</td>\n",
       "      <td>0.020806</td>\n",
       "      <td>0.021990</td>\n",
       "      <td>0.195326</td>\n",
       "      <td>...</td>\n",
       "      <td>19.614305</td>\n",
       "      <td>89.910502</td>\n",
       "      <td>472.323112</td>\n",
       "      <td>0.138135</td>\n",
       "      <td>0.276127</td>\n",
       "      <td>0.151098</td>\n",
       "      <td>0.074396</td>\n",
       "      <td>0.345258</td>\n",
       "      <td>0.095830</td>\n",
       "      <td>B</td>\n",
       "    </tr>\n",
       "  </tbody>\n",
       "</table>\n",
       "<p>5 rows × 32 columns</p>\n",
       "</div>"
      ],
      "text/plain": [
       "   Unnamed: 0  n1_radius  n1_texture  n1_perimeter     n1_area  n1_smoothness  \\\n",
       "0           0  10.855170   15.248290     69.167041  359.534878       0.105488   \n",
       "1           1  10.068958   15.532758     66.130635  330.040665       0.099813   \n",
       "2           2  12.271409   18.100314     78.195610  421.537832       0.105147   \n",
       "3           3  10.531733   18.452486     67.227069  340.063033       0.086041   \n",
       "4           4  12.367686   14.399191     80.643814  460.849710       0.106410   \n",
       "\n",
       "   n1_compactness  n1_concavity  n1_concave_points  n1_symmetry  ...  \\\n",
       "0        0.080200      0.066410           0.034194     0.182796  ...   \n",
       "1        0.109540      0.057583           0.023322     0.195650  ...   \n",
       "2        0.095315      0.043317           0.031539     0.188801  ...   \n",
       "3        0.049961      0.049709           0.011046     0.203093  ...   \n",
       "4        0.101420      0.020806           0.021990     0.195326  ...   \n",
       "\n",
       "   n3_texture  n3_perimeter     n3_area  n3_smoothness  n3_compactness  \\\n",
       "0   18.984557     81.443134  466.879302       0.149080        0.200185   \n",
       "1   22.840293     82.133171  473.367822       0.125478        0.330466   \n",
       "2   26.365608     84.598334  620.586067       0.146766        0.118707   \n",
       "3   24.385385     73.296855  429.675600       0.100060        0.143683   \n",
       "4   19.614305     89.910502  472.323112       0.138135        0.276127   \n",
       "\n",
       "   n3_concavity  n3_concave_points  n3_symmetry  n3_fractal_dimension  \\\n",
       "0      0.205695           0.111592     0.335999              0.093477   \n",
       "1      0.283304           0.088021     0.312882              0.096158   \n",
       "2      0.147900           0.050402     0.291805              0.069556   \n",
       "3      0.177225           0.028111     0.287749              0.073174   \n",
       "4      0.151098           0.074396     0.345258              0.095830   \n",
       "\n",
       "   DIAGNOSIS  \n",
       "0          B  \n",
       "1          B  \n",
       "2          B  \n",
       "3          B  \n",
       "4          B  \n",
       "\n",
       "[5 rows x 32 columns]"
      ]
     },
     "execution_count": 2,
     "metadata": {},
     "output_type": "execute_result"
    }
   ],
   "source": [
    "# Loading the sample data set using the pandas read_csv method into a pandas DataFrame.\n",
    "df_tumour_samples = pd.read_csv('./Data/tumour_samples.csv')\n",
    "# Outputing the first 5 samples (rows) to inspect the data.\n",
    "df_tumour_samples.head()"
   ]
  },
  {
   "cell_type": "code",
   "execution_count": 3,
   "metadata": {},
   "outputs": [
    {
     "data": {
      "text/html": [
       "<div>\n",
       "<style scoped>\n",
       "    .dataframe tbody tr th:only-of-type {\n",
       "        vertical-align: middle;\n",
       "    }\n",
       "\n",
       "    .dataframe tbody tr th {\n",
       "        vertical-align: top;\n",
       "    }\n",
       "\n",
       "    .dataframe thead th {\n",
       "        text-align: right;\n",
       "    }\n",
       "</style>\n",
       "<table border=\"1\" class=\"dataframe\">\n",
       "  <thead>\n",
       "    <tr style=\"text-align: right;\">\n",
       "      <th></th>\n",
       "      <th>n1_radius</th>\n",
       "      <th>n1_texture</th>\n",
       "      <th>n1_perimeter</th>\n",
       "      <th>n1_area</th>\n",
       "      <th>n1_smoothness</th>\n",
       "      <th>n1_compactness</th>\n",
       "      <th>n1_concavity</th>\n",
       "      <th>n1_concave_points</th>\n",
       "      <th>n1_symmetry</th>\n",
       "      <th>n1_fractal_dimension</th>\n",
       "      <th>...</th>\n",
       "      <th>n3_texture</th>\n",
       "      <th>n3_perimeter</th>\n",
       "      <th>n3_area</th>\n",
       "      <th>n3_smoothness</th>\n",
       "      <th>n3_compactness</th>\n",
       "      <th>n3_concavity</th>\n",
       "      <th>n3_concave_points</th>\n",
       "      <th>n3_symmetry</th>\n",
       "      <th>n3_fractal_dimension</th>\n",
       "      <th>DIAGNOSIS</th>\n",
       "    </tr>\n",
       "  </thead>\n",
       "  <tbody>\n",
       "    <tr>\n",
       "      <th>0</th>\n",
       "      <td>10.855170</td>\n",
       "      <td>15.248290</td>\n",
       "      <td>69.167041</td>\n",
       "      <td>359.534878</td>\n",
       "      <td>0.105488</td>\n",
       "      <td>0.080200</td>\n",
       "      <td>0.066410</td>\n",
       "      <td>0.034194</td>\n",
       "      <td>0.182796</td>\n",
       "      <td>0.066968</td>\n",
       "      <td>...</td>\n",
       "      <td>18.984557</td>\n",
       "      <td>81.443134</td>\n",
       "      <td>466.879302</td>\n",
       "      <td>0.149080</td>\n",
       "      <td>0.200185</td>\n",
       "      <td>0.205695</td>\n",
       "      <td>0.111592</td>\n",
       "      <td>0.335999</td>\n",
       "      <td>0.093477</td>\n",
       "      <td>B</td>\n",
       "    </tr>\n",
       "    <tr>\n",
       "      <th>1</th>\n",
       "      <td>10.068958</td>\n",
       "      <td>15.532758</td>\n",
       "      <td>66.130635</td>\n",
       "      <td>330.040665</td>\n",
       "      <td>0.099813</td>\n",
       "      <td>0.109540</td>\n",
       "      <td>0.057583</td>\n",
       "      <td>0.023322</td>\n",
       "      <td>0.195650</td>\n",
       "      <td>0.069572</td>\n",
       "      <td>...</td>\n",
       "      <td>22.840293</td>\n",
       "      <td>82.133171</td>\n",
       "      <td>473.367822</td>\n",
       "      <td>0.125478</td>\n",
       "      <td>0.330466</td>\n",
       "      <td>0.283304</td>\n",
       "      <td>0.088021</td>\n",
       "      <td>0.312882</td>\n",
       "      <td>0.096158</td>\n",
       "      <td>B</td>\n",
       "    </tr>\n",
       "    <tr>\n",
       "      <th>2</th>\n",
       "      <td>12.271409</td>\n",
       "      <td>18.100314</td>\n",
       "      <td>78.195610</td>\n",
       "      <td>421.537832</td>\n",
       "      <td>0.105147</td>\n",
       "      <td>0.095315</td>\n",
       "      <td>0.043317</td>\n",
       "      <td>0.031539</td>\n",
       "      <td>0.188801</td>\n",
       "      <td>0.063341</td>\n",
       "      <td>...</td>\n",
       "      <td>26.365608</td>\n",
       "      <td>84.598334</td>\n",
       "      <td>620.586067</td>\n",
       "      <td>0.146766</td>\n",
       "      <td>0.118707</td>\n",
       "      <td>0.147900</td>\n",
       "      <td>0.050402</td>\n",
       "      <td>0.291805</td>\n",
       "      <td>0.069556</td>\n",
       "      <td>B</td>\n",
       "    </tr>\n",
       "    <tr>\n",
       "      <th>3</th>\n",
       "      <td>10.531733</td>\n",
       "      <td>18.452486</td>\n",
       "      <td>67.227069</td>\n",
       "      <td>340.063033</td>\n",
       "      <td>0.086041</td>\n",
       "      <td>0.049961</td>\n",
       "      <td>0.049709</td>\n",
       "      <td>0.011046</td>\n",
       "      <td>0.203093</td>\n",
       "      <td>0.064948</td>\n",
       "      <td>...</td>\n",
       "      <td>24.385385</td>\n",
       "      <td>73.296855</td>\n",
       "      <td>429.675600</td>\n",
       "      <td>0.100060</td>\n",
       "      <td>0.143683</td>\n",
       "      <td>0.177225</td>\n",
       "      <td>0.028111</td>\n",
       "      <td>0.287749</td>\n",
       "      <td>0.073174</td>\n",
       "      <td>B</td>\n",
       "    </tr>\n",
       "    <tr>\n",
       "      <th>4</th>\n",
       "      <td>12.367686</td>\n",
       "      <td>14.399191</td>\n",
       "      <td>80.643814</td>\n",
       "      <td>460.849710</td>\n",
       "      <td>0.106410</td>\n",
       "      <td>0.101420</td>\n",
       "      <td>0.020806</td>\n",
       "      <td>0.021990</td>\n",
       "      <td>0.195326</td>\n",
       "      <td>0.064605</td>\n",
       "      <td>...</td>\n",
       "      <td>19.614305</td>\n",
       "      <td>89.910502</td>\n",
       "      <td>472.323112</td>\n",
       "      <td>0.138135</td>\n",
       "      <td>0.276127</td>\n",
       "      <td>0.151098</td>\n",
       "      <td>0.074396</td>\n",
       "      <td>0.345258</td>\n",
       "      <td>0.095830</td>\n",
       "      <td>B</td>\n",
       "    </tr>\n",
       "  </tbody>\n",
       "</table>\n",
       "<p>5 rows × 31 columns</p>\n",
       "</div>"
      ],
      "text/plain": [
       "   n1_radius  n1_texture  n1_perimeter     n1_area  n1_smoothness  \\\n",
       "0  10.855170   15.248290     69.167041  359.534878       0.105488   \n",
       "1  10.068958   15.532758     66.130635  330.040665       0.099813   \n",
       "2  12.271409   18.100314     78.195610  421.537832       0.105147   \n",
       "3  10.531733   18.452486     67.227069  340.063033       0.086041   \n",
       "4  12.367686   14.399191     80.643814  460.849710       0.106410   \n",
       "\n",
       "   n1_compactness  n1_concavity  n1_concave_points  n1_symmetry  \\\n",
       "0        0.080200      0.066410           0.034194     0.182796   \n",
       "1        0.109540      0.057583           0.023322     0.195650   \n",
       "2        0.095315      0.043317           0.031539     0.188801   \n",
       "3        0.049961      0.049709           0.011046     0.203093   \n",
       "4        0.101420      0.020806           0.021990     0.195326   \n",
       "\n",
       "   n1_fractal_dimension  ...  n3_texture  n3_perimeter     n3_area  \\\n",
       "0              0.066968  ...   18.984557     81.443134  466.879302   \n",
       "1              0.069572  ...   22.840293     82.133171  473.367822   \n",
       "2              0.063341  ...   26.365608     84.598334  620.586067   \n",
       "3              0.064948  ...   24.385385     73.296855  429.675600   \n",
       "4              0.064605  ...   19.614305     89.910502  472.323112   \n",
       "\n",
       "   n3_smoothness  n3_compactness  n3_concavity  n3_concave_points  \\\n",
       "0       0.149080        0.200185      0.205695           0.111592   \n",
       "1       0.125478        0.330466      0.283304           0.088021   \n",
       "2       0.146766        0.118707      0.147900           0.050402   \n",
       "3       0.100060        0.143683      0.177225           0.028111   \n",
       "4       0.138135        0.276127      0.151098           0.074396   \n",
       "\n",
       "   n3_symmetry  n3_fractal_dimension  DIAGNOSIS  \n",
       "0     0.335999              0.093477          B  \n",
       "1     0.312882              0.096158          B  \n",
       "2     0.291805              0.069556          B  \n",
       "3     0.287749              0.073174          B  \n",
       "4     0.345258              0.095830          B  \n",
       "\n",
       "[5 rows x 31 columns]"
      ]
     },
     "execution_count": 3,
     "metadata": {},
     "output_type": "execute_result"
    }
   ],
   "source": [
    "# We obtain an array of the data-type of all columns\n",
    "if 'Unnamed: 0' in df_tumour_samples.columns:\n",
    "    df_tumour_samples = df_tumour_samples.drop('Unnamed: 0', 1)\n",
    "data_type = np.array([df_tumour_samples.dtypes[i] for i in range(df_tumour_samples.shape[1]-1)])\n",
    "assert(data_type.all() == float)  # we assert that all columns are of type float\n",
    "assert(df_tumour_samples.isnull().values.any() == False)  # we assert that there is no empty / NaN entry in any column\n",
    "df_tumour_samples.head()"
   ]
  },
  {
   "cell_type": "code",
   "execution_count": 4,
   "metadata": {},
   "outputs": [],
   "source": [
    "X_class = df_tumour_samples.iloc[:, 0:30]  # load descriptors into matrix of descriptors\n",
    "y = df_tumour_samples.iloc[:, 30]  # load ground truth target variable vector\n",
    "y = [0 if el == 'B' else 1 for el in y]"
   ]
  },
  {
   "cell_type": "code",
   "execution_count": 6,
   "metadata": {},
   "outputs": [],
   "source": [
    "def euclidian_distance(p, q):\n",
    "    return np.sqrt(np.sum((p-q)**2, axis=1))"
   ]
  },
  {
   "cell_type": "code",
   "execution_count": 7,
   "metadata": {},
   "outputs": [],
   "source": [
    "def standardise(X):\n",
    "    mu = np.mean(X, 0)\n",
    "    sigma = np.std(X, 0)\n",
    "    X_std = (X - mu) / sigma\n",
    "    return X_std"
   ]
  },
  {
   "cell_type": "code",
   "execution_count": 8,
   "metadata": {},
   "outputs": [],
   "source": [
    "X = standardise(X_class)"
   ]
  },
  {
   "cell_type": "code",
   "execution_count": 9,
   "metadata": {},
   "outputs": [],
   "source": [
    "def k_neighbours(X_train, X_test, k=5, return_distance=False):\n",
    "    n_neighbours = k\n",
    "    dist = []\n",
    "    neigh_ind = []\n",
    "  \n",
    "    # compute distance from each point x_test in X_test to all points in X_train\n",
    "    point_dist = [euclidian_distance(x_test, X_train) for x_test in X_test]\n",
    "    \n",
    "    # determine which k training points are closest to each test point\n",
    "    for row in point_dist:\n",
    "        enum_neigh = enumerate(row)\n",
    "        sorted_neigh = sorted(enum_neigh, key=lambda x: x[1])[:k]\n",
    "\n",
    "        ind_list = [tup[0] for tup in sorted_neigh]\n",
    "        dist_list = [tup[1] for tup in sorted_neigh]\n",
    "\n",
    "        dist.append(dist_list)\n",
    "        neigh_ind.append(ind_list)\n",
    "  \n",
    "    # return distances together with indices of k nearest neighbours\n",
    "    if return_distance:\n",
    "        return np.array(dist), np.array(neigh_ind)\n",
    "  \n",
    "    return np.array(neigh_ind)"
   ]
  },
  {
   "cell_type": "code",
   "execution_count": 10,
   "metadata": {},
   "outputs": [],
   "source": [
    "def predict(X_train, y_train, X_test, k=5):\n",
    "    # each of the k neighbours contributes equally to the classification of any data point in X_test  \n",
    "    neighbours = k_neighbours(X_train, X_test, k=k)\n",
    "    # count number of occurences of label with np.bincount and choose the label that has most with np.argmax\n",
    "    y_pred = np.array([np.argmax(np.bincount(y_train[neighbour])) for neighbour in neighbours])\n",
    "    \n",
    "    return y_pred"
   ]
  },
  {
   "cell_type": "code",
   "execution_count": 11,
   "metadata": {},
   "outputs": [],
   "source": [
    "def score(X_train, y_train, X_test, y_test, k=5):\n",
    "    y_pred = predict(X_train, y_train, X_test, k=k)\n",
    "    return np.float(sum(y_pred==y_test))/ float(len(y_test))"
   ]
  },
  {
   "cell_type": "code",
   "execution_count": 12,
   "metadata": {},
   "outputs": [],
   "source": [
    "X_copy = X.copy()\n",
    "y_copy = y.copy()\n",
    "\n",
    "X_copy = np.array(X_copy[:-1]) # removing the last element in order to have 5 equal-sized folds (which requires an even number of samples)\n",
    "y_copy = np.array(y_copy[:-1]) # removing the last element in order to have 5 equal-sized folds (which requires an even number of samples)\n",
    "\n",
    "np.random.seed(10)\n",
    "p = np.random.permutation(len(y_copy))\n",
    "X_copy = X_copy[p]\n",
    "y_copy = y_copy[p]\n",
    "\n",
    "# We obtain a list of the 5 index arrays, i.e., the 5 folds\n",
    "folds_indexes = np.split(np.arange(len(y_copy)), 5)"
   ]
  },
  {
   "cell_type": "code",
   "execution_count": 13,
   "metadata": {},
   "outputs": [],
   "source": [
    "def cross_validation_score(X_train, y_train, folds, k):\n",
    "    scores = []\n",
    "    for i in range(len(folds)):\n",
    "        val_indexes = folds[i]\n",
    "        train_indexes = list(set(range(y_train.shape[0])) - set(val_indexes))\n",
    "\n",
    "        X_train_i = X_train[train_indexes, :]\n",
    "        y_train_i = y_train[train_indexes]\n",
    "\n",
    "\n",
    "        X_val_i = X_train[val_indexes, :]\n",
    "        y_val_i = y_train[val_indexes]\n",
    "\n",
    "        score_i = score(X_train_i, y_train_i, X_val_i, y_val_i, k=k)\n",
    "        scores.append(score_i)\n",
    "\n",
    "    # Return the average score\n",
    "    return sum(scores) / len(scores)"
   ]
  },
  {
   "cell_type": "code",
   "execution_count": 14,
   "metadata": {},
   "outputs": [],
   "source": [
    "def choose_best_k(X_train, y_train, folds, k_range):\n",
    "    k_scores = np.zeros((len(k_range),))\n",
    "    \n",
    "    for i, k in enumerate(k_range):\n",
    "        k_scores[i] = cross_validation_score(X_train, y_train, folds, k)\n",
    "        print(f'CV_ACC@k={k}: {k_scores[i]:.3f}')\n",
    "\n",
    "    best_k_index = np.argmax(k_scores)\n",
    "    return k_range[best_k_index]"
   ]
  },
  {
   "cell_type": "code",
   "execution_count": 15,
   "metadata": {},
   "outputs": [
    {
     "name": "stdout",
     "output_type": "stream",
     "text": [
      "CV_ACC@k=1: 0.997\n",
      "CV_ACC@k=2: 0.982\n",
      "CV_ACC@k=3: 0.985\n",
      "CV_ACC@k=4: 0.979\n",
      "CV_ACC@k=5: 0.983\n",
      "CV_ACC@k=6: 0.979\n",
      "CV_ACC@k=7: 0.980\n",
      "CV_ACC@k=8: 0.978\n",
      "CV_ACC@k=9: 0.981\n",
      "CV_ACC@k=10: 0.977\n",
      "CV_ACC@k=11: 0.981\n",
      "CV_ACC@k=12: 0.977\n",
      "CV_ACC@k=13: 0.979\n",
      "CV_ACC@k=14: 0.976\n",
      "CV_ACC@k=15: 0.977\n",
      "CV_ACC@k=16: 0.976\n",
      "CV_ACC@k=17: 0.978\n",
      "CV_ACC@k=18: 0.975\n",
      "CV_ACC@k=19: 0.976\n",
      "CV_ACC@k=20: 0.974\n",
      "CV_ACC@k=21: 0.975\n",
      "CV_ACC@k=22: 0.973\n",
      "CV_ACC@k=23: 0.974\n",
      "CV_ACC@k=24: 0.972\n",
      "CV_ACC@k=25: 0.973\n",
      "CV_ACC@k=26: 0.972\n",
      "CV_ACC@k=27: 0.973\n",
      "CV_ACC@k=28: 0.972\n",
      "CV_ACC@k=29: 0.972\n",
      "CV_ACC@k=30: 0.971\n",
      "best_k: 1\n"
     ]
    }
   ],
   "source": [
    "best_k = choose_best_k(X_copy, y_copy, folds_indexes, np.arange(1, 31))\n",
    "print('best_k:', best_k)"
   ]
  },
  {
   "cell_type": "code",
   "execution_count": 16,
   "metadata": {},
   "outputs": [
    {
     "name": "stdout",
     "output_type": "stream",
     "text": [
      "Train set mean accuracy: 1.0\n",
      "Test set mean accuracy: 0.98\n"
     ]
    }
   ],
   "source": [
    "print('Train set mean accuracy:', score(np.array(X), np.array(y), np.array(X), np.array(y), k=best_k))\n",
    "\n",
    "# Loading the test data set using the pandas read_csv method into a pandas DataFrame.\n",
    "df_tumour_test = pd.read_csv('./Data/tumour_test.csv')\n",
    "if 'Unnamed: 0' in df_tumour_test.columns:\n",
    "    df_tumour_test = df_tumour_test.drop('Unnamed: 0', 1)\n",
    "X_class_test = df_tumour_test.iloc[:, 0:30]  # load descriptors into matrix of descriptors\n",
    "X_test = standardise(X_class_test)\n",
    "y_test = df_tumour_test.iloc[:, 30]  # load ground truth target variable vector\n",
    "y_test = [0 if el == 'B' else 1 for el in y_test]\n",
    "print('Test set mean accuracy:', score(np.array(X), np.array(y), np.array(X_test), np.array(y_test), k=best_k))"
   ]
  },
  {
   "cell_type": "markdown",
   "metadata": {
    "id": "rCPlajQOy1ER"
   },
   "source": [
    "<a name=\"q22\"></a>\n",
    "\n",
    "## 2.2 Random Forest [^](#outline)"
   ]
  },
  {
   "cell_type": "code",
   "execution_count": 17,
   "metadata": {},
   "outputs": [],
   "source": [
    "df_tumour_samples\n",
    "\n",
    "# stacking data X and labels y into one matrix\n",
    "tumour_samples_shuff = df_tumour_samples.iloc[np.random.permutation(len(df_tumour_samples))]\n",
    "\n",
    "X = tumour_samples_shuff[tumour_samples_shuff.columns[:-1]]\n",
    "y = tumour_samples_shuff[tumour_samples_shuff.columns[-1]]\n",
    "y = np.array([0 if el == 'B' else 1 for el in y])\n",
    "y = y.astype(int)\n",
    "\n",
    "training_weights = np.ones_like(y)/len(y)\n",
    "\n",
    "# We need a dictionary indicating whether the column index maps to a \n",
    "# categorical feature or numerical\n",
    "# In this example, all features are numerical (categorical=False)\n",
    "columns_dict = {index: False for index in range(X.shape[1])}"
   ]
  },
  {
   "cell_type": "code",
   "execution_count": 18,
   "metadata": {},
   "outputs": [],
   "source": [
    "def cross_entropy(y, sample_weights):\n",
    "    \"\"\"\n",
    "    Calculate the cross-entropy for labels.\n",
    "    Arguments:\n",
    "        y: vector of training labels, of shape (N,).\n",
    "        sample_weights: weights for each samples, of shape (N,).\n",
    "    Returns:\n",
    "        (float): the cross-entropy for y.\n",
    "    \"\"\"\n",
    "\n",
    "    # count different labels in y，and store in label_weights\n",
    "    # initialize with zero for each distinct label.\n",
    "    label_weights = {yi: 0 for yi in set(y)}  \n",
    "    for yi, wi in zip(y, sample_weights):\n",
    "        label_weights[yi] += wi\n",
    "\n",
    "    total_weight = sum(label_weights.values())\n",
    "    cross_entropy_value = 0\n",
    "    for label, weight in label_weights.items():\n",
    "        pi_q = (weight / total_weight)\n",
    "        if pi_q == 1:\n",
    "            continue\n",
    "        else:\n",
    "            cross_entropy_value += pi_q * np.log(1 - pi_q)\n",
    "\n",
    "    return cross_entropy_value"
   ]
  },
  {
   "cell_type": "code",
   "execution_count": 41,
   "metadata": {},
   "outputs": [
    {
     "data": {
      "text/plain": [
       "-1.5327243372511141"
      ]
     },
     "execution_count": 41,
     "metadata": {},
     "output_type": "execute_result"
    }
   ],
   "source": [
    "cross_entropy(y, training_weights)"
   ]
  },
  {
   "cell_type": "code",
   "execution_count": 19,
   "metadata": {},
   "outputs": [],
   "source": [
    "def split_samples(X, y, sample_weights, column, value, categorical):\n",
    "    \"\"\"\n",
    "    Return the split of data whose column-th feature:\n",
    "        1. equals value, in case `column` is categorical, or\n",
    "        2. less than value, in case `column` is not categorical (i.e. numerical)\n",
    "\n",
    "    Arguments:\n",
    "        X: training features, of shape (N, D).\n",
    "        y: vector of training labels, of shape (N,).\n",
    "        sample_weights: weights for each samples, of shape (N,).\n",
    "        column: the column of the feature for splitting.\n",
    "        value: splitting threshold  the samples \n",
    "        categorical: boolean value indicating whether column is a categorical variable or numerical.\n",
    "    Returns:\n",
    "        tuple(np.array, np.array): tuple of subsets of X splitted based on column-th value.\n",
    "        tuple(np.array, np.array): tuple of subsets of y splitted based on column-th value.\n",
    "        tuple(np.array, np.array): tuple of subsets of sample weights based on column-th value.\n",
    "    \"\"\" \n",
    "\n",
    "    if categorical:\n",
    "        left_mask =(X[:, column] == value)\n",
    "    else:\n",
    "        left_mask = (X[:, column] < value)\n",
    "  \n",
    "    X_left, X_right = X[left_mask, :], X[~left_mask, :]\n",
    "    y_left, y_right = y[left_mask], y[~left_mask]\n",
    "    w_left, w_right  = sample_weights[left_mask], sample_weights[~left_mask]\n",
    "\n",
    "    return (X_left, X_right), (y_left, y_right), (w_left, w_right)"
   ]
  },
  {
   "cell_type": "code",
   "execution_count": 20,
   "metadata": {},
   "outputs": [],
   "source": [
    "def cross_entropy_split_value(X, y, sample_weights, column, categorical):\n",
    "    \"\"\"\n",
    "    Calculate the cross-entropy based on `column` with the split that minimizes the cross-entropy.\n",
    "    Arguments:\n",
    "        X: training features, of shape (N, D).\n",
    "        y: vector of training labels, of shape (N,).\n",
    "        sample_weights: weights for each samples, of shape (N,).\n",
    "        column: the column of the feature for calculating. 0 <= column < D\n",
    "        categorical: boolean value indicating whether column is a categorical variable or numerical.\n",
    "    Returns:\n",
    "        (float, float): the resulted GINI-index and the corresponding value used in splitting.\n",
    "    \"\"\"\n",
    "    \n",
    "    unique_vals = np.unique(X[:, column])\n",
    "    assert len(unique_vals) > 1, f\"There must be more than one distinct feature value. Given: {unique_vals}.\"\n",
    "\n",
    "    cross_entropy_val, threshold = np.inf, None\n",
    "  \n",
    "    # split the values of i-th feature and calculate the cost \n",
    "    for value in unique_vals:\n",
    "        (X_l, X_r), (y_l, y_r), (w_l, w_r) = split_samples(X, y, sample_weights, column, value, categorical)\n",
    "\n",
    "        # if one of the two sides is empty, skip this split.\n",
    "        if len(y_l) == 0 or len(y_r) == 0:\n",
    "            continue\n",
    "    \n",
    "        p_left = sum(w_l)/(sum(w_l) + sum(w_r))\n",
    "        p_right = 1 - p_left\n",
    "        new_cost = p_left * cross_entropy(y_l, w_l) + p_right * cross_entropy(y_r, w_r)\n",
    "        if new_cost < cross_entropy_val:\n",
    "            cross_entropy_val, threshold = new_cost, value\n",
    "    \n",
    "    return cross_entropy_val, threshold"
   ]
  },
  {
   "cell_type": "code",
   "execution_count": 44,
   "metadata": {},
   "outputs": [
    {
     "data": {
      "text/plain": [
       "(-1.7982513436984657, 0.08878568428372446)"
      ]
     },
     "execution_count": 44,
     "metadata": {},
     "output_type": "execute_result"
    }
   ],
   "source": [
    "cross_entropy_split_value(X.to_numpy(), y, training_weights, 4, columns_dict[4])"
   ]
  },
  {
   "cell_type": "code",
   "execution_count": 21,
   "metadata": {},
   "outputs": [],
   "source": [
    "def cross_entropy_split(X, y, sample_weights, columns_dict):\n",
    "    \"\"\"\n",
    "    Choose the best feature to split according to criterion.\n",
    "    Args:\n",
    "        X: training features, of shape (N, D).\n",
    "        y: vector of training labels, of shape (N,).\n",
    "        sample_weights: weights for each samples, of shape (N,).\n",
    "        columns_dict: a dictionary mapping column indices to whether the column is categorical or numerical variable.\n",
    "    Returns:\n",
    "        (int, float): the best feature index and value used in splitting. \n",
    "        If the feature index is None, then no valid split for the current Node.\n",
    "    \"\"\"\n",
    "\n",
    "    # initialize `split_column` to None, so if None returned this means there is no valid split at the current node.\n",
    "    min_cross_entropy, split_column, split_val = np.inf, None, 0\n",
    "    for column, categorical in columns_dict.items():\n",
    "        # skip column if samples are not seperable by that column.\n",
    "        if len(np.unique(X[:, column])) < 2:\n",
    "            continue\n",
    "        cross_entropy, val = cross_entropy_split_value(X, y, sample_weights, column, categorical)         \n",
    "        if cross_entropy < min_cross_entropy:\n",
    "            min_cross_entropy, split_column, split_val = cross_entropy, column, val\n",
    "\n",
    "    return split_column, split_val"
   ]
  },
  {
   "cell_type": "code",
   "execution_count": 46,
   "metadata": {},
   "outputs": [
    {
     "data": {
      "text/plain": [
       "(22, 95.9483360996496)"
      ]
     },
     "execution_count": 46,
     "metadata": {},
     "output_type": "execute_result"
    }
   ],
   "source": [
    "# evaluate which feature is best\n",
    "cross_entropy_split(X.to_numpy(), y, training_weights, columns_dict)"
   ]
  },
  {
   "cell_type": "code",
   "execution_count": 22,
   "metadata": {},
   "outputs": [],
   "source": [
    "def majority_vote(y, sample_weights):\n",
    "    \"\"\"\n",
    "    Return the label which appears the most in y.\n",
    "    Args:\n",
    "        y: vector of training labels, of shape (N,).\n",
    "        sample_weights: weights for each samples, of shape (N,).\n",
    "    Returns:\n",
    "        (int): the majority label\n",
    "    \"\"\"\n",
    "    majority_label = {yi: 0 for yi in set(y)}\n",
    "\n",
    "    for yi, wi in zip(y, sample_weights):\n",
    "        majority_label[yi] += wi\n",
    "    return max(majority_label, key=majority_label.get)"
   ]
  },
  {
   "cell_type": "code",
   "execution_count": 48,
   "metadata": {},
   "outputs": [
    {
     "data": {
      "text/plain": [
       "0"
      ]
     },
     "execution_count": 48,
     "metadata": {},
     "output_type": "execute_result"
    }
   ],
   "source": [
    "majority_vote(y, training_weights)"
   ]
  },
  {
   "cell_type": "code",
   "execution_count": 23,
   "metadata": {},
   "outputs": [],
   "source": [
    "def build_tree(X, y, sample_weights, columns_dict, feature_names, depth,  max_depth=10, min_samples_leaf=2):\n",
    "    \"\"\"Build the decision tree according to the data.\n",
    "    Args:\n",
    "        X: (np.array) training features, of shape (N, D).\n",
    "        y: (np.array) vector of training labels, of shape (N,).\n",
    "        sample_weights: weights for each samples, of shape (N,).\n",
    "        columns_dict: a dictionary mapping column indices to whether the column is categorical or numerical variable.\n",
    "        feature_names (list): record the name of features in X in the original dataset.\n",
    "        depth (int): current depth for this node.\n",
    "    Returns:\n",
    "        (dict): a dict denoting the decision tree (binary-tree). Each node has seven attributes:\n",
    "          1. 'feature_name': The column name of the split.\n",
    "          2. 'feature_index': The column index of the split.\n",
    "          3. 'value': The value used for the split.\n",
    "          4. 'categorical': indicator for categorical/numerical variables.\n",
    "          5. 'majority_label': For leaf nodes, this stores the dominant label. Otherwise, it is None.\n",
    "          6. 'left': The left sub-tree with the same structure.\n",
    "          7. 'right' The right sub-tree with the same structure.\n",
    "        Example:\n",
    "            mytree = {\n",
    "                'feature_name': 'petal length (cm)',\n",
    "                'feature_index': 2,\n",
    "                'value': 3.0,\n",
    "                'categorical': False,\n",
    "                'majority_label': None,\n",
    "                'left': {\n",
    "                   'feature_name': str,\n",
    "                    'feature_index': int,\n",
    "                    'value': float,\n",
    "                    'categorical': bool,\n",
    "                    'majority_label': None,\n",
    "                    'left': {..etc.},\n",
    "                    'right': {..etc.}\n",
    "                }\n",
    "                'right': {\n",
    "                    'feature_name': str,\n",
    "                    'feature_index': int,\n",
    "                    'value': float,\n",
    "                    'categorical': bool,\n",
    "                    'majority_label': None,\n",
    "                    'left': {..etc.},\n",
    "                    'right': {..etc.}\n",
    "                }\n",
    "            }\n",
    "    \"\"\"\n",
    "    # include a clause for the cases where (i) no feature, (ii) all labels are the same, (iii) depth exceed, or (iv) X is too small\n",
    "    if len(np.unique(y))==1 or depth>=max_depth or len(X)<=min_samples_leaf: \n",
    "        return {'majority_label': majority_vote(y, sample_weights)}\n",
    "  \n",
    "    split_index, split_val = cross_entropy_split(X, y, sample_weights, columns_dict)\n",
    "\n",
    "    # If no valid split at this node, use majority vote.\n",
    "    if split_index is None:\n",
    "        return {'majority_label': majority_vote(y, sample_weights)}\n",
    "\n",
    "    categorical = columns_dict[split_index]\n",
    "    (X_l, X_r), (y_l, y_r), (w_l, w_r) = split_samples(X, y, sample_weights, split_index, split_val, categorical)\n",
    "    return {\n",
    "        'feature_name': feature_names[split_index],\n",
    "        'feature_index': split_index,\n",
    "        'value': split_val,\n",
    "        'categorical': categorical,\n",
    "        'majority_label': None,\n",
    "        'left': build_tree(X_l, y_l, w_l, columns_dict, feature_names, depth + 1, max_depth, min_samples_leaf),\n",
    "        'right': build_tree(X_r, y_r, w_r, columns_dict, feature_names, depth + 1, max_depth, min_samples_leaf)\n",
    "    }"
   ]
  },
  {
   "cell_type": "code",
   "execution_count": 24,
   "metadata": {},
   "outputs": [],
   "source": [
    "def train(X, y,  columns_dict, sample_weights=None):\n",
    "    \"\"\"\n",
    "    Build the decision tree according to the training data.\n",
    "    Args:\n",
    "        X: (pd.Dataframe) training features, of shape (N, D). Each X[i] is a training sample.\n",
    "        y: (pd.Series) vector of training labels, of shape (N,). y[i] is the label for X[i], and each y[i] is\n",
    "        an integer in the range 0 <= y[i] <= C. Here C = 1.\n",
    "        columns_dict: a dictionary mapping column indices to whether the column is categorical or numerical variable.\n",
    "        sample_weights: weights for each samples, of shape (N,).\n",
    "    \"\"\"\n",
    "    if sample_weights is None:\n",
    "        # if the sample weights is not provided, we assume the samples have uniform weights\n",
    "        sample_weights = np.ones(X.shape[0]) / X.shape[0]\n",
    "    else:\n",
    "        sample_weights = np.array(sample_weights) / np.sum(sample_weights)\n",
    "\n",
    "    feature_names = X.columns.tolist()\n",
    "    X = X.to_numpy()\n",
    "    y = y\n",
    "    return build_tree(X, y, sample_weights, columns_dict, feature_names, depth=1)"
   ]
  },
  {
   "cell_type": "code",
   "execution_count": 51,
   "metadata": {},
   "outputs": [
    {
     "name": "stdout",
     "output_type": "stream",
     "text": [
      "CPU times: user 11 µs, sys: 4 µs, total: 15 µs\n",
      "Wall time: 27.2 µs\n"
     ]
    }
   ],
   "source": [
    "%%time\n",
    "# tree = train(X, y, columns_dict)\n",
    "# print(tree)"
   ]
  },
  {
   "cell_type": "code",
   "execution_count": 25,
   "metadata": {},
   "outputs": [],
   "source": [
    "def classify(tree, x):\n",
    "    \"\"\"\n",
    "    Classify a single sample with the fitted decision tree.\n",
    "    Args:\n",
    "        x: ((pd.Dataframe) a single sample features, of shape (D,).\n",
    "    Returns:\n",
    "        (int): predicted testing sample label.\n",
    "    \"\"\"\n",
    "    if tree['majority_label'] is not None: \n",
    "        return tree['majority_label']\n",
    "\n",
    "    elif tree['categorical']:\n",
    "        if x[tree['feature_index']] == tree['value']:\n",
    "            return classify(tree['left'], x)\n",
    "        else:\n",
    "            return classify(tree['right'], x)\n",
    "\n",
    "    else:\n",
    "        if x[tree['feature_index']] < tree['value']:\n",
    "            return classify(tree['left'], x)\n",
    "        else:\n",
    "            return classify(tree['right'], x)"
   ]
  },
  {
   "cell_type": "code",
   "execution_count": 26,
   "metadata": {},
   "outputs": [],
   "source": [
    "def predict(tree, X):\n",
    "    \"\"\"\n",
    "    Predict classification results for X.\n",
    "    Args:\n",
    "        X: (pd.Dataframe) testing sample features, of shape (N, D).\n",
    "    Returns:\n",
    "        (np.array): predicted testing sample labels, of shape (N,).\n",
    "    \"\"\"\n",
    "    if len(X.shape) == 1:\n",
    "        return classify(tree, X)\n",
    "    else:\n",
    "        return np.array([classify(tree, x) for x in X])"
   ]
  },
  {
   "cell_type": "code",
   "execution_count": 27,
   "metadata": {},
   "outputs": [],
   "source": [
    "def tree_score(tree, X_test, y_test):\n",
    "    y_pred = predict(tree, X_test)\n",
    "    return np.mean(y_pred==y_test)"
   ]
  },
  {
   "cell_type": "code",
   "execution_count": 55,
   "metadata": {},
   "outputs": [
    {
     "ename": "NameError",
     "evalue": "name 'tree' is not defined",
     "output_type": "error",
     "traceback": [
      "\u001b[0;31m---------------------------------------------------------------------------\u001b[0m",
      "\u001b[0;31mNameError\u001b[0m                                 Traceback (most recent call last)",
      "Input \u001b[0;32mIn [55]\u001b[0m, in \u001b[0;36m<module>\u001b[0;34m\u001b[0m\n\u001b[0;32m----> 1\u001b[0m \u001b[38;5;28mprint\u001b[39m(\u001b[38;5;124m'\u001b[39m\u001b[38;5;124mTraining accuracy:\u001b[39m\u001b[38;5;124m'\u001b[39m, tree_score(\u001b[43mtree\u001b[49m, X\u001b[38;5;241m.\u001b[39mto_numpy(), y))\n",
      "\u001b[0;31mNameError\u001b[0m: name 'tree' is not defined"
     ]
    }
   ],
   "source": [
    "print('Training accuracy:', tree_score(tree, X.to_numpy(), y))"
   ]
  },
  {
   "cell_type": "code",
   "execution_count": null,
   "metadata": {},
   "outputs": [],
   "source": []
  },
  {
   "cell_type": "code",
   "execution_count": null,
   "metadata": {},
   "outputs": [],
   "source": [
    "def cross_entropy_split_rf(n_features, X, y, sample_weights, columns_dict):\n",
    "    \"\"\"\n",
    "    Choose the best feature to split according to criterion.\n",
    "    Args:\n",
    "        n_features: number of sampled features.\n",
    "        X: training features, of shape (N, D).\n",
    "        y: vector of training labels, of shape (N,).\n",
    "        sample_weights: weights for each samples, of shape (N,).\n",
    "        columns_dict: a dictionary mapping column indices to whether the column is categorical or numerical variable.\n",
    "    Returns:\n",
    "        (float, int, float): the minimized gini-index, the best feature index and value used in splitting.\n",
    "    \"\"\"\n",
    "    columns = np.random.choice(list(columns_dict.keys()), n_features, replace=False)\n",
    "    columns_dict = {c: columns_dict[c] for c in columns}\n",
    "\n",
    "    min_cross_entropy, split_column, split_val = np.inf, 0, 0\n",
    "    for column, categorical in columns_dict.items():\n",
    "        # skip column if samples are not seperable by that column.\n",
    "        if len(np.unique(X[:, column])) < 2:\n",
    "            continue\n",
    "   \n",
    "        # search for the best splitting value for the given column.\n",
    "        cross_entropy, val = cross_entropy_split_value(X, y, sample_weights, column, categorical)      \n",
    "        if cross_entropy < min_cross_entropy:\n",
    "            min_cross_entropy, split_column, split_val = cross_entropy, column, val\n",
    "\n",
    "    return min_cross_entropy, split_column, split_val"
   ]
  },
  {
   "cell_type": "code",
   "execution_count": 29,
   "metadata": {},
   "outputs": [],
   "source": [
    "def build_tree_rf(n_features, X, y, sample_weights, columns_dict, feature_names, depth,  max_depth=10, min_samples_leaf=2):\n",
    "    \"\"\"Build the decision tree according to the data.\n",
    "    Args:\n",
    "        X: (np.array) training features, of shape (N, D).\n",
    "        y: (np.array) vector of training labels, of shape (N,).\n",
    "        sample_weights: weights for each samples, of shape (N,).\n",
    "        columns_dict: a dictionary mapping column indices to whether the column is categorical or numerical variable.\n",
    "        feature_names (list): record the name of features in X in the original dataset.\n",
    "        depth (int): current depth for this node.\n",
    "    Returns:\n",
    "        (dict): a dict denoting the decision tree (binary-tree). Each node has seven attributes:\n",
    "          1. 'feature_name': The column name of the split.\n",
    "          2. 'feature_index': The column index of the split.\n",
    "          3. 'value': The value used for the split.\n",
    "          4. 'categorical': indicator for categorical/numerical variables.\n",
    "          5. 'majority_label': For leaf nodes, this stores the dominant label. Otherwise, it is None.\n",
    "          6. 'left': The left sub-tree with the same structure.\n",
    "          7. 'right' The right sub-tree with the same structure.\n",
    "        Example:\n",
    "            mytree = {\n",
    "                'feature_name': 'petal length (cm)',\n",
    "                'feature_index': 2,\n",
    "                'value': 3.0,\n",
    "                'categorical': False,\n",
    "                'majority_label': None,\n",
    "                'left': {\n",
    "                    'feature_name': str,\n",
    "                    'feature_index': int,\n",
    "                    'value': float,\n",
    "                    'categorical': bool,\n",
    "                    'majority_label': None,\n",
    "                    'left': {..etc.},\n",
    "                    'right': {..etc.}\n",
    "                }\n",
    "                'right': {\n",
    "                    'feature_name': str,\n",
    "                    'feature_index': int,\n",
    "                    'value': float,\n",
    "                    'categorical': bool,\n",
    "                    'majority_label': None,\n",
    "                    'left': {..etc.},\n",
    "                    'right': {..etc.}\n",
    "                }\n",
    "            }\n",
    "    \"\"\"\n",
    "    # include a clause for the cases where (i) all lables are the same, (ii) depth exceed (iii) X is too small\n",
    "    if len(np.unique(y)) == 1 or depth>=max_depth or len(X)<=min_samples_leaf: \n",
    "        return {'majority_label': majority_vote(y, sample_weights)}\n",
    "  \n",
    "    else:\n",
    "        cross_entropy, split_index, split_val = cross_entropy_split_rf(n_features, X, y, sample_weights, columns_dict)\n",
    "    \n",
    "        # If cross_entropy is infinity, it means that samples are not seperable by the sampled features.\n",
    "        if cross_entropy == np.inf:\n",
    "            return {'majority_label': majority_vote(y, sample_weights)}\n",
    "        categorical = columns_dict[split_index]\n",
    "        (X_l, X_r), (y_l, y_r), (w_l, w_r) = split_samples(X, y, sample_weights, split_index, split_val, categorical)\n",
    "        return {\n",
    "            'feature_name': feature_names[split_index],\n",
    "            'feature_index': split_index,\n",
    "            'value': split_val,\n",
    "            'categorical': categorical,\n",
    "            'majority_label': None,\n",
    "            'left': build_tree_rf(n_features, X_l, y_l, w_l, columns_dict, feature_names, depth + 1, max_depth, min_samples_leaf),\n",
    "            'right': build_tree_rf(n_features, X_r, y_r, w_r, columns_dict, feature_names, depth + 1, max_depth, min_samples_leaf)\n",
    "        }"
   ]
  },
  {
   "cell_type": "code",
   "execution_count": null,
   "metadata": {},
   "outputs": [],
   "source": []
  },
  {
   "cell_type": "code",
   "execution_count": 30,
   "metadata": {},
   "outputs": [],
   "source": [
    "def train_rf(B, n_features, X, y,  columns_dict, sample_weights=None):\n",
    "    \"\"\"\n",
    "    Build the decision tree according to the training data.\n",
    "    Args:\n",
    "        B: number of decision trees.\n",
    "        X: (pd.Dataframe) training features, of shape (N, D). Each X[i] is a training sample.\n",
    "        y: (pd.Series) vector of training labels, of shape (N,). y[i] is the label for X[i], and each y[i] is\n",
    "        an integer in the range 0 <= y[i] <= C. Here C = 1.\n",
    "        columns_dict: a dictionary mapping column indices to whether the column is categorical or numerical variable.\n",
    "        sample_weights: weights for each samples, of shape (N,).\n",
    "    \"\"\"\n",
    "    if sample_weights is None:\n",
    "        # if the sample weights is not provided, we assume the samples have uniform weights\n",
    "        sample_weights = np.ones(X.shape[0]) / X.shape[0]\n",
    "    else:\n",
    "        sample_weights = np.array(sample_weights) / np.sum(sample_weights)\n",
    "\n",
    "    feature_names = X.columns.tolist()\n",
    "    X = X.to_numpy()\n",
    "    if type(y).__module__ != np.__name__:\n",
    "        y = y.to_numpy()\n",
    "    N = X.shape[0]\n",
    "    training_indices = np.arange(N)\n",
    "    trees = []\n",
    "\n",
    "    for _ in range(B):\n",
    "        sample = np.random.choice(training_indices, N, replace=True)\n",
    "        X_sample = X[sample, :]\n",
    "        y_sample = y[sample]\n",
    "        w_sample = sample_weights[sample]\n",
    "        tree = build_tree_rf(n_features, X_sample, y_sample, w_sample, columns_dict, feature_names, depth=1)\n",
    "        trees.append(tree)\n",
    "\n",
    "    return trees"
   ]
  },
  {
   "cell_type": "code",
   "execution_count": 31,
   "metadata": {},
   "outputs": [],
   "source": [
    "def predict_rf(rf, X):\n",
    "    \"\"\"\n",
    "    Predict classification results for X.\n",
    "    Args:\n",
    "        rf: A trained random forest through train_rf function.\n",
    "        X: (pd.Dataframe) testing sample features, of shape (N, D).\n",
    "    Returns:\n",
    "        (np.array): predicted testing sample labels, of shape (N,).\n",
    "    \"\"\"\n",
    "\n",
    "    def aggregate(decisions):\n",
    "        count = defaultdict(int)\n",
    "        for decision in decisions:\n",
    "            count[decision] += 1\n",
    "        return max(count, key=count.get)\n",
    "\n",
    "    if len(X.shape) == 1:\n",
    "        return aggregate([classify(tree, X) for tree in rf])\n",
    "    else:\n",
    "        return np.array([aggregate([classify(tree, x) for tree in rf]) for x in X])"
   ]
  },
  {
   "cell_type": "code",
   "execution_count": 32,
   "metadata": {},
   "outputs": [],
   "source": [
    "def rf_score(rf, X_test, y_test):\n",
    "    y_pred = predict_rf(rf, X_test)\n",
    "    return np.mean(y_pred==y_test)"
   ]
  },
  {
   "cell_type": "code",
   "execution_count": 64,
   "metadata": {},
   "outputs": [
    {
     "ename": "KeyboardInterrupt",
     "evalue": "",
     "output_type": "error",
     "traceback": [
      "\u001b[0;31m---------------------------------------------------------------------------\u001b[0m",
      "\u001b[0;31mKeyboardInterrupt\u001b[0m                         Traceback (most recent call last)",
      "File \u001b[0;32m<timed exec>:4\u001b[0m, in \u001b[0;36m<module>\u001b[0;34m\u001b[0m\n",
      "Input \u001b[0;32mIn [62]\u001b[0m, in \u001b[0;36mtrain_rf\u001b[0;34m(B, n_features, X, y, columns_dict, sample_weights)\u001b[0m\n\u001b[1;32m     29\u001b[0m     y_sample \u001b[38;5;241m=\u001b[39m y[sample]\n\u001b[1;32m     30\u001b[0m     w_sample \u001b[38;5;241m=\u001b[39m sample_weights[sample]\n\u001b[0;32m---> 31\u001b[0m     tree \u001b[38;5;241m=\u001b[39m \u001b[43mbuild_tree_rf\u001b[49m\u001b[43m(\u001b[49m\u001b[43mn_features\u001b[49m\u001b[43m,\u001b[49m\u001b[43m \u001b[49m\u001b[43mX_sample\u001b[49m\u001b[43m,\u001b[49m\u001b[43m \u001b[49m\u001b[43my_sample\u001b[49m\u001b[43m,\u001b[49m\u001b[43m \u001b[49m\u001b[43mw_sample\u001b[49m\u001b[43m,\u001b[49m\u001b[43m \u001b[49m\u001b[43mcolumns_dict\u001b[49m\u001b[43m,\u001b[49m\u001b[43m \u001b[49m\u001b[43mfeature_names\u001b[49m\u001b[43m,\u001b[49m\u001b[43m \u001b[49m\u001b[43mdepth\u001b[49m\u001b[38;5;241;43m=\u001b[39;49m\u001b[38;5;241;43m1\u001b[39;49m\u001b[43m)\u001b[49m\n\u001b[1;32m     32\u001b[0m     trees\u001b[38;5;241m.\u001b[39mappend(tree)\n\u001b[1;32m     34\u001b[0m \u001b[38;5;28;01mreturn\u001b[39;00m trees\n",
      "Input \u001b[0;32mIn [57]\u001b[0m, in \u001b[0;36mbuild_tree_rf\u001b[0;34m(n_features, X, y, sample_weights, columns_dict, feature_names, depth, max_depth, min_samples_leaf)\u001b[0m\n\u001b[1;32m     56\u001b[0m categorical \u001b[38;5;241m=\u001b[39m columns_dict[split_index]\n\u001b[1;32m     57\u001b[0m (X_l, X_r), (y_l, y_r), (w_l, w_r) \u001b[38;5;241m=\u001b[39m split_samples(X, y, sample_weights, split_index, split_val, categorical)\n\u001b[1;32m     58\u001b[0m \u001b[38;5;28;01mreturn\u001b[39;00m {\n\u001b[1;32m     59\u001b[0m     \u001b[38;5;124m'\u001b[39m\u001b[38;5;124mfeature_name\u001b[39m\u001b[38;5;124m'\u001b[39m: feature_names[split_index],\n\u001b[1;32m     60\u001b[0m     \u001b[38;5;124m'\u001b[39m\u001b[38;5;124mfeature_index\u001b[39m\u001b[38;5;124m'\u001b[39m: split_index,\n\u001b[1;32m     61\u001b[0m     \u001b[38;5;124m'\u001b[39m\u001b[38;5;124mvalue\u001b[39m\u001b[38;5;124m'\u001b[39m: split_val,\n\u001b[1;32m     62\u001b[0m     \u001b[38;5;124m'\u001b[39m\u001b[38;5;124mcategorical\u001b[39m\u001b[38;5;124m'\u001b[39m: categorical,\n\u001b[1;32m     63\u001b[0m     \u001b[38;5;124m'\u001b[39m\u001b[38;5;124mmajority_label\u001b[39m\u001b[38;5;124m'\u001b[39m: \u001b[38;5;28;01mNone\u001b[39;00m,\n\u001b[0;32m---> 64\u001b[0m     \u001b[38;5;124m'\u001b[39m\u001b[38;5;124mleft\u001b[39m\u001b[38;5;124m'\u001b[39m: \u001b[43mbuild_tree_rf\u001b[49m\u001b[43m(\u001b[49m\u001b[43mn_features\u001b[49m\u001b[43m,\u001b[49m\u001b[43m \u001b[49m\u001b[43mX_l\u001b[49m\u001b[43m,\u001b[49m\u001b[43m \u001b[49m\u001b[43my_l\u001b[49m\u001b[43m,\u001b[49m\u001b[43m \u001b[49m\u001b[43mw_l\u001b[49m\u001b[43m,\u001b[49m\u001b[43m \u001b[49m\u001b[43mcolumns_dict\u001b[49m\u001b[43m,\u001b[49m\u001b[43m \u001b[49m\u001b[43mfeature_names\u001b[49m\u001b[43m,\u001b[49m\u001b[43m \u001b[49m\u001b[43mdepth\u001b[49m\u001b[43m \u001b[49m\u001b[38;5;241;43m+\u001b[39;49m\u001b[43m \u001b[49m\u001b[38;5;241;43m1\u001b[39;49m\u001b[43m,\u001b[49m\u001b[43m \u001b[49m\u001b[43mmax_depth\u001b[49m\u001b[43m,\u001b[49m\u001b[43m \u001b[49m\u001b[43mmin_samples_leaf\u001b[49m\u001b[43m)\u001b[49m,\n\u001b[1;32m     65\u001b[0m     \u001b[38;5;124m'\u001b[39m\u001b[38;5;124mright\u001b[39m\u001b[38;5;124m'\u001b[39m: build_tree_rf(n_features, X_r, y_r, w_r, columns_dict, feature_names, depth \u001b[38;5;241m+\u001b[39m \u001b[38;5;241m1\u001b[39m, max_depth, min_samples_leaf)\n\u001b[1;32m     66\u001b[0m }\n",
      "Input \u001b[0;32mIn [57]\u001b[0m, in \u001b[0;36mbuild_tree_rf\u001b[0;34m(n_features, X, y, sample_weights, columns_dict, feature_names, depth, max_depth, min_samples_leaf)\u001b[0m\n\u001b[1;32m     56\u001b[0m categorical \u001b[38;5;241m=\u001b[39m columns_dict[split_index]\n\u001b[1;32m     57\u001b[0m (X_l, X_r), (y_l, y_r), (w_l, w_r) \u001b[38;5;241m=\u001b[39m split_samples(X, y, sample_weights, split_index, split_val, categorical)\n\u001b[1;32m     58\u001b[0m \u001b[38;5;28;01mreturn\u001b[39;00m {\n\u001b[1;32m     59\u001b[0m     \u001b[38;5;124m'\u001b[39m\u001b[38;5;124mfeature_name\u001b[39m\u001b[38;5;124m'\u001b[39m: feature_names[split_index],\n\u001b[1;32m     60\u001b[0m     \u001b[38;5;124m'\u001b[39m\u001b[38;5;124mfeature_index\u001b[39m\u001b[38;5;124m'\u001b[39m: split_index,\n\u001b[1;32m     61\u001b[0m     \u001b[38;5;124m'\u001b[39m\u001b[38;5;124mvalue\u001b[39m\u001b[38;5;124m'\u001b[39m: split_val,\n\u001b[1;32m     62\u001b[0m     \u001b[38;5;124m'\u001b[39m\u001b[38;5;124mcategorical\u001b[39m\u001b[38;5;124m'\u001b[39m: categorical,\n\u001b[1;32m     63\u001b[0m     \u001b[38;5;124m'\u001b[39m\u001b[38;5;124mmajority_label\u001b[39m\u001b[38;5;124m'\u001b[39m: \u001b[38;5;28;01mNone\u001b[39;00m,\n\u001b[0;32m---> 64\u001b[0m     \u001b[38;5;124m'\u001b[39m\u001b[38;5;124mleft\u001b[39m\u001b[38;5;124m'\u001b[39m: \u001b[43mbuild_tree_rf\u001b[49m\u001b[43m(\u001b[49m\u001b[43mn_features\u001b[49m\u001b[43m,\u001b[49m\u001b[43m \u001b[49m\u001b[43mX_l\u001b[49m\u001b[43m,\u001b[49m\u001b[43m \u001b[49m\u001b[43my_l\u001b[49m\u001b[43m,\u001b[49m\u001b[43m \u001b[49m\u001b[43mw_l\u001b[49m\u001b[43m,\u001b[49m\u001b[43m \u001b[49m\u001b[43mcolumns_dict\u001b[49m\u001b[43m,\u001b[49m\u001b[43m \u001b[49m\u001b[43mfeature_names\u001b[49m\u001b[43m,\u001b[49m\u001b[43m \u001b[49m\u001b[43mdepth\u001b[49m\u001b[43m \u001b[49m\u001b[38;5;241;43m+\u001b[39;49m\u001b[43m \u001b[49m\u001b[38;5;241;43m1\u001b[39;49m\u001b[43m,\u001b[49m\u001b[43m \u001b[49m\u001b[43mmax_depth\u001b[49m\u001b[43m,\u001b[49m\u001b[43m \u001b[49m\u001b[43mmin_samples_leaf\u001b[49m\u001b[43m)\u001b[49m,\n\u001b[1;32m     65\u001b[0m     \u001b[38;5;124m'\u001b[39m\u001b[38;5;124mright\u001b[39m\u001b[38;5;124m'\u001b[39m: build_tree_rf(n_features, X_r, y_r, w_r, columns_dict, feature_names, depth \u001b[38;5;241m+\u001b[39m \u001b[38;5;241m1\u001b[39m, max_depth, min_samples_leaf)\n\u001b[1;32m     66\u001b[0m }\n",
      "Input \u001b[0;32mIn [57]\u001b[0m, in \u001b[0;36mbuild_tree_rf\u001b[0;34m(n_features, X, y, sample_weights, columns_dict, feature_names, depth, max_depth, min_samples_leaf)\u001b[0m\n\u001b[1;32m     56\u001b[0m categorical \u001b[38;5;241m=\u001b[39m columns_dict[split_index]\n\u001b[1;32m     57\u001b[0m (X_l, X_r), (y_l, y_r), (w_l, w_r) \u001b[38;5;241m=\u001b[39m split_samples(X, y, sample_weights, split_index, split_val, categorical)\n\u001b[1;32m     58\u001b[0m \u001b[38;5;28;01mreturn\u001b[39;00m {\n\u001b[1;32m     59\u001b[0m     \u001b[38;5;124m'\u001b[39m\u001b[38;5;124mfeature_name\u001b[39m\u001b[38;5;124m'\u001b[39m: feature_names[split_index],\n\u001b[1;32m     60\u001b[0m     \u001b[38;5;124m'\u001b[39m\u001b[38;5;124mfeature_index\u001b[39m\u001b[38;5;124m'\u001b[39m: split_index,\n\u001b[1;32m     61\u001b[0m     \u001b[38;5;124m'\u001b[39m\u001b[38;5;124mvalue\u001b[39m\u001b[38;5;124m'\u001b[39m: split_val,\n\u001b[1;32m     62\u001b[0m     \u001b[38;5;124m'\u001b[39m\u001b[38;5;124mcategorical\u001b[39m\u001b[38;5;124m'\u001b[39m: categorical,\n\u001b[1;32m     63\u001b[0m     \u001b[38;5;124m'\u001b[39m\u001b[38;5;124mmajority_label\u001b[39m\u001b[38;5;124m'\u001b[39m: \u001b[38;5;28;01mNone\u001b[39;00m,\n\u001b[0;32m---> 64\u001b[0m     \u001b[38;5;124m'\u001b[39m\u001b[38;5;124mleft\u001b[39m\u001b[38;5;124m'\u001b[39m: \u001b[43mbuild_tree_rf\u001b[49m\u001b[43m(\u001b[49m\u001b[43mn_features\u001b[49m\u001b[43m,\u001b[49m\u001b[43m \u001b[49m\u001b[43mX_l\u001b[49m\u001b[43m,\u001b[49m\u001b[43m \u001b[49m\u001b[43my_l\u001b[49m\u001b[43m,\u001b[49m\u001b[43m \u001b[49m\u001b[43mw_l\u001b[49m\u001b[43m,\u001b[49m\u001b[43m \u001b[49m\u001b[43mcolumns_dict\u001b[49m\u001b[43m,\u001b[49m\u001b[43m \u001b[49m\u001b[43mfeature_names\u001b[49m\u001b[43m,\u001b[49m\u001b[43m \u001b[49m\u001b[43mdepth\u001b[49m\u001b[43m \u001b[49m\u001b[38;5;241;43m+\u001b[39;49m\u001b[43m \u001b[49m\u001b[38;5;241;43m1\u001b[39;49m\u001b[43m,\u001b[49m\u001b[43m \u001b[49m\u001b[43mmax_depth\u001b[49m\u001b[43m,\u001b[49m\u001b[43m \u001b[49m\u001b[43mmin_samples_leaf\u001b[49m\u001b[43m)\u001b[49m,\n\u001b[1;32m     65\u001b[0m     \u001b[38;5;124m'\u001b[39m\u001b[38;5;124mright\u001b[39m\u001b[38;5;124m'\u001b[39m: build_tree_rf(n_features, X_r, y_r, w_r, columns_dict, feature_names, depth \u001b[38;5;241m+\u001b[39m \u001b[38;5;241m1\u001b[39m, max_depth, min_samples_leaf)\n\u001b[1;32m     66\u001b[0m }\n",
      "Input \u001b[0;32mIn [57]\u001b[0m, in \u001b[0;36mbuild_tree_rf\u001b[0;34m(n_features, X, y, sample_weights, columns_dict, feature_names, depth, max_depth, min_samples_leaf)\u001b[0m\n\u001b[1;32m     56\u001b[0m categorical \u001b[38;5;241m=\u001b[39m columns_dict[split_index]\n\u001b[1;32m     57\u001b[0m (X_l, X_r), (y_l, y_r), (w_l, w_r) \u001b[38;5;241m=\u001b[39m split_samples(X, y, sample_weights, split_index, split_val, categorical)\n\u001b[1;32m     58\u001b[0m \u001b[38;5;28;01mreturn\u001b[39;00m {\n\u001b[1;32m     59\u001b[0m     \u001b[38;5;124m'\u001b[39m\u001b[38;5;124mfeature_name\u001b[39m\u001b[38;5;124m'\u001b[39m: feature_names[split_index],\n\u001b[1;32m     60\u001b[0m     \u001b[38;5;124m'\u001b[39m\u001b[38;5;124mfeature_index\u001b[39m\u001b[38;5;124m'\u001b[39m: split_index,\n\u001b[1;32m     61\u001b[0m     \u001b[38;5;124m'\u001b[39m\u001b[38;5;124mvalue\u001b[39m\u001b[38;5;124m'\u001b[39m: split_val,\n\u001b[1;32m     62\u001b[0m     \u001b[38;5;124m'\u001b[39m\u001b[38;5;124mcategorical\u001b[39m\u001b[38;5;124m'\u001b[39m: categorical,\n\u001b[1;32m     63\u001b[0m     \u001b[38;5;124m'\u001b[39m\u001b[38;5;124mmajority_label\u001b[39m\u001b[38;5;124m'\u001b[39m: \u001b[38;5;28;01mNone\u001b[39;00m,\n\u001b[1;32m     64\u001b[0m     \u001b[38;5;124m'\u001b[39m\u001b[38;5;124mleft\u001b[39m\u001b[38;5;124m'\u001b[39m: build_tree_rf(n_features, X_l, y_l, w_l, columns_dict, feature_names, depth \u001b[38;5;241m+\u001b[39m \u001b[38;5;241m1\u001b[39m, max_depth, min_samples_leaf),\n\u001b[0;32m---> 65\u001b[0m     \u001b[38;5;124m'\u001b[39m\u001b[38;5;124mright\u001b[39m\u001b[38;5;124m'\u001b[39m: \u001b[43mbuild_tree_rf\u001b[49m\u001b[43m(\u001b[49m\u001b[43mn_features\u001b[49m\u001b[43m,\u001b[49m\u001b[43m \u001b[49m\u001b[43mX_r\u001b[49m\u001b[43m,\u001b[49m\u001b[43m \u001b[49m\u001b[43my_r\u001b[49m\u001b[43m,\u001b[49m\u001b[43m \u001b[49m\u001b[43mw_r\u001b[49m\u001b[43m,\u001b[49m\u001b[43m \u001b[49m\u001b[43mcolumns_dict\u001b[49m\u001b[43m,\u001b[49m\u001b[43m \u001b[49m\u001b[43mfeature_names\u001b[49m\u001b[43m,\u001b[49m\u001b[43m \u001b[49m\u001b[43mdepth\u001b[49m\u001b[43m \u001b[49m\u001b[38;5;241;43m+\u001b[39;49m\u001b[43m \u001b[49m\u001b[38;5;241;43m1\u001b[39;49m\u001b[43m,\u001b[49m\u001b[43m \u001b[49m\u001b[43mmax_depth\u001b[49m\u001b[43m,\u001b[49m\u001b[43m \u001b[49m\u001b[43mmin_samples_leaf\u001b[49m\u001b[43m)\u001b[49m\n\u001b[1;32m     66\u001b[0m }\n",
      "Input \u001b[0;32mIn [57]\u001b[0m, in \u001b[0;36mbuild_tree_rf\u001b[0;34m(n_features, X, y, sample_weights, columns_dict, feature_names, depth, max_depth, min_samples_leaf)\u001b[0m\n\u001b[1;32m     56\u001b[0m categorical \u001b[38;5;241m=\u001b[39m columns_dict[split_index]\n\u001b[1;32m     57\u001b[0m (X_l, X_r), (y_l, y_r), (w_l, w_r) \u001b[38;5;241m=\u001b[39m split_samples(X, y, sample_weights, split_index, split_val, categorical)\n\u001b[1;32m     58\u001b[0m \u001b[38;5;28;01mreturn\u001b[39;00m {\n\u001b[1;32m     59\u001b[0m     \u001b[38;5;124m'\u001b[39m\u001b[38;5;124mfeature_name\u001b[39m\u001b[38;5;124m'\u001b[39m: feature_names[split_index],\n\u001b[1;32m     60\u001b[0m     \u001b[38;5;124m'\u001b[39m\u001b[38;5;124mfeature_index\u001b[39m\u001b[38;5;124m'\u001b[39m: split_index,\n\u001b[1;32m     61\u001b[0m     \u001b[38;5;124m'\u001b[39m\u001b[38;5;124mvalue\u001b[39m\u001b[38;5;124m'\u001b[39m: split_val,\n\u001b[1;32m     62\u001b[0m     \u001b[38;5;124m'\u001b[39m\u001b[38;5;124mcategorical\u001b[39m\u001b[38;5;124m'\u001b[39m: categorical,\n\u001b[1;32m     63\u001b[0m     \u001b[38;5;124m'\u001b[39m\u001b[38;5;124mmajority_label\u001b[39m\u001b[38;5;124m'\u001b[39m: \u001b[38;5;28;01mNone\u001b[39;00m,\n\u001b[1;32m     64\u001b[0m     \u001b[38;5;124m'\u001b[39m\u001b[38;5;124mleft\u001b[39m\u001b[38;5;124m'\u001b[39m: build_tree_rf(n_features, X_l, y_l, w_l, columns_dict, feature_names, depth \u001b[38;5;241m+\u001b[39m \u001b[38;5;241m1\u001b[39m, max_depth, min_samples_leaf),\n\u001b[0;32m---> 65\u001b[0m     \u001b[38;5;124m'\u001b[39m\u001b[38;5;124mright\u001b[39m\u001b[38;5;124m'\u001b[39m: \u001b[43mbuild_tree_rf\u001b[49m\u001b[43m(\u001b[49m\u001b[43mn_features\u001b[49m\u001b[43m,\u001b[49m\u001b[43m \u001b[49m\u001b[43mX_r\u001b[49m\u001b[43m,\u001b[49m\u001b[43m \u001b[49m\u001b[43my_r\u001b[49m\u001b[43m,\u001b[49m\u001b[43m \u001b[49m\u001b[43mw_r\u001b[49m\u001b[43m,\u001b[49m\u001b[43m \u001b[49m\u001b[43mcolumns_dict\u001b[49m\u001b[43m,\u001b[49m\u001b[43m \u001b[49m\u001b[43mfeature_names\u001b[49m\u001b[43m,\u001b[49m\u001b[43m \u001b[49m\u001b[43mdepth\u001b[49m\u001b[43m \u001b[49m\u001b[38;5;241;43m+\u001b[39;49m\u001b[43m \u001b[49m\u001b[38;5;241;43m1\u001b[39;49m\u001b[43m,\u001b[49m\u001b[43m \u001b[49m\u001b[43mmax_depth\u001b[49m\u001b[43m,\u001b[49m\u001b[43m \u001b[49m\u001b[43mmin_samples_leaf\u001b[49m\u001b[43m)\u001b[49m\n\u001b[1;32m     66\u001b[0m }\n",
      "Input \u001b[0;32mIn [57]\u001b[0m, in \u001b[0;36mbuild_tree_rf\u001b[0;34m(n_features, X, y, sample_weights, columns_dict, feature_names, depth, max_depth, min_samples_leaf)\u001b[0m\n\u001b[1;32m     56\u001b[0m categorical \u001b[38;5;241m=\u001b[39m columns_dict[split_index]\n\u001b[1;32m     57\u001b[0m (X_l, X_r), (y_l, y_r), (w_l, w_r) \u001b[38;5;241m=\u001b[39m split_samples(X, y, sample_weights, split_index, split_val, categorical)\n\u001b[1;32m     58\u001b[0m \u001b[38;5;28;01mreturn\u001b[39;00m {\n\u001b[1;32m     59\u001b[0m     \u001b[38;5;124m'\u001b[39m\u001b[38;5;124mfeature_name\u001b[39m\u001b[38;5;124m'\u001b[39m: feature_names[split_index],\n\u001b[1;32m     60\u001b[0m     \u001b[38;5;124m'\u001b[39m\u001b[38;5;124mfeature_index\u001b[39m\u001b[38;5;124m'\u001b[39m: split_index,\n\u001b[1;32m     61\u001b[0m     \u001b[38;5;124m'\u001b[39m\u001b[38;5;124mvalue\u001b[39m\u001b[38;5;124m'\u001b[39m: split_val,\n\u001b[1;32m     62\u001b[0m     \u001b[38;5;124m'\u001b[39m\u001b[38;5;124mcategorical\u001b[39m\u001b[38;5;124m'\u001b[39m: categorical,\n\u001b[1;32m     63\u001b[0m     \u001b[38;5;124m'\u001b[39m\u001b[38;5;124mmajority_label\u001b[39m\u001b[38;5;124m'\u001b[39m: \u001b[38;5;28;01mNone\u001b[39;00m,\n\u001b[0;32m---> 64\u001b[0m     \u001b[38;5;124m'\u001b[39m\u001b[38;5;124mleft\u001b[39m\u001b[38;5;124m'\u001b[39m: \u001b[43mbuild_tree_rf\u001b[49m\u001b[43m(\u001b[49m\u001b[43mn_features\u001b[49m\u001b[43m,\u001b[49m\u001b[43m \u001b[49m\u001b[43mX_l\u001b[49m\u001b[43m,\u001b[49m\u001b[43m \u001b[49m\u001b[43my_l\u001b[49m\u001b[43m,\u001b[49m\u001b[43m \u001b[49m\u001b[43mw_l\u001b[49m\u001b[43m,\u001b[49m\u001b[43m \u001b[49m\u001b[43mcolumns_dict\u001b[49m\u001b[43m,\u001b[49m\u001b[43m \u001b[49m\u001b[43mfeature_names\u001b[49m\u001b[43m,\u001b[49m\u001b[43m \u001b[49m\u001b[43mdepth\u001b[49m\u001b[43m \u001b[49m\u001b[38;5;241;43m+\u001b[39;49m\u001b[43m \u001b[49m\u001b[38;5;241;43m1\u001b[39;49m\u001b[43m,\u001b[49m\u001b[43m \u001b[49m\u001b[43mmax_depth\u001b[49m\u001b[43m,\u001b[49m\u001b[43m \u001b[49m\u001b[43mmin_samples_leaf\u001b[49m\u001b[43m)\u001b[49m,\n\u001b[1;32m     65\u001b[0m     \u001b[38;5;124m'\u001b[39m\u001b[38;5;124mright\u001b[39m\u001b[38;5;124m'\u001b[39m: build_tree_rf(n_features, X_r, y_r, w_r, columns_dict, feature_names, depth \u001b[38;5;241m+\u001b[39m \u001b[38;5;241m1\u001b[39m, max_depth, min_samples_leaf)\n\u001b[1;32m     66\u001b[0m }\n",
      "Input \u001b[0;32mIn [57]\u001b[0m, in \u001b[0;36mbuild_tree_rf\u001b[0;34m(n_features, X, y, sample_weights, columns_dict, feature_names, depth, max_depth, min_samples_leaf)\u001b[0m\n\u001b[1;32m     56\u001b[0m categorical \u001b[38;5;241m=\u001b[39m columns_dict[split_index]\n\u001b[1;32m     57\u001b[0m (X_l, X_r), (y_l, y_r), (w_l, w_r) \u001b[38;5;241m=\u001b[39m split_samples(X, y, sample_weights, split_index, split_val, categorical)\n\u001b[1;32m     58\u001b[0m \u001b[38;5;28;01mreturn\u001b[39;00m {\n\u001b[1;32m     59\u001b[0m     \u001b[38;5;124m'\u001b[39m\u001b[38;5;124mfeature_name\u001b[39m\u001b[38;5;124m'\u001b[39m: feature_names[split_index],\n\u001b[1;32m     60\u001b[0m     \u001b[38;5;124m'\u001b[39m\u001b[38;5;124mfeature_index\u001b[39m\u001b[38;5;124m'\u001b[39m: split_index,\n\u001b[1;32m     61\u001b[0m     \u001b[38;5;124m'\u001b[39m\u001b[38;5;124mvalue\u001b[39m\u001b[38;5;124m'\u001b[39m: split_val,\n\u001b[1;32m     62\u001b[0m     \u001b[38;5;124m'\u001b[39m\u001b[38;5;124mcategorical\u001b[39m\u001b[38;5;124m'\u001b[39m: categorical,\n\u001b[1;32m     63\u001b[0m     \u001b[38;5;124m'\u001b[39m\u001b[38;5;124mmajority_label\u001b[39m\u001b[38;5;124m'\u001b[39m: \u001b[38;5;28;01mNone\u001b[39;00m,\n\u001b[0;32m---> 64\u001b[0m     \u001b[38;5;124m'\u001b[39m\u001b[38;5;124mleft\u001b[39m\u001b[38;5;124m'\u001b[39m: \u001b[43mbuild_tree_rf\u001b[49m\u001b[43m(\u001b[49m\u001b[43mn_features\u001b[49m\u001b[43m,\u001b[49m\u001b[43m \u001b[49m\u001b[43mX_l\u001b[49m\u001b[43m,\u001b[49m\u001b[43m \u001b[49m\u001b[43my_l\u001b[49m\u001b[43m,\u001b[49m\u001b[43m \u001b[49m\u001b[43mw_l\u001b[49m\u001b[43m,\u001b[49m\u001b[43m \u001b[49m\u001b[43mcolumns_dict\u001b[49m\u001b[43m,\u001b[49m\u001b[43m \u001b[49m\u001b[43mfeature_names\u001b[49m\u001b[43m,\u001b[49m\u001b[43m \u001b[49m\u001b[43mdepth\u001b[49m\u001b[43m \u001b[49m\u001b[38;5;241;43m+\u001b[39;49m\u001b[43m \u001b[49m\u001b[38;5;241;43m1\u001b[39;49m\u001b[43m,\u001b[49m\u001b[43m \u001b[49m\u001b[43mmax_depth\u001b[49m\u001b[43m,\u001b[49m\u001b[43m \u001b[49m\u001b[43mmin_samples_leaf\u001b[49m\u001b[43m)\u001b[49m,\n\u001b[1;32m     65\u001b[0m     \u001b[38;5;124m'\u001b[39m\u001b[38;5;124mright\u001b[39m\u001b[38;5;124m'\u001b[39m: build_tree_rf(n_features, X_r, y_r, w_r, columns_dict, feature_names, depth \u001b[38;5;241m+\u001b[39m \u001b[38;5;241m1\u001b[39m, max_depth, min_samples_leaf)\n\u001b[1;32m     66\u001b[0m }\n",
      "Input \u001b[0;32mIn [57]\u001b[0m, in \u001b[0;36mbuild_tree_rf\u001b[0;34m(n_features, X, y, sample_weights, columns_dict, feature_names, depth, max_depth, min_samples_leaf)\u001b[0m\n\u001b[1;32m     56\u001b[0m categorical \u001b[38;5;241m=\u001b[39m columns_dict[split_index]\n\u001b[1;32m     57\u001b[0m (X_l, X_r), (y_l, y_r), (w_l, w_r) \u001b[38;5;241m=\u001b[39m split_samples(X, y, sample_weights, split_index, split_val, categorical)\n\u001b[1;32m     58\u001b[0m \u001b[38;5;28;01mreturn\u001b[39;00m {\n\u001b[1;32m     59\u001b[0m     \u001b[38;5;124m'\u001b[39m\u001b[38;5;124mfeature_name\u001b[39m\u001b[38;5;124m'\u001b[39m: feature_names[split_index],\n\u001b[1;32m     60\u001b[0m     \u001b[38;5;124m'\u001b[39m\u001b[38;5;124mfeature_index\u001b[39m\u001b[38;5;124m'\u001b[39m: split_index,\n\u001b[1;32m     61\u001b[0m     \u001b[38;5;124m'\u001b[39m\u001b[38;5;124mvalue\u001b[39m\u001b[38;5;124m'\u001b[39m: split_val,\n\u001b[1;32m     62\u001b[0m     \u001b[38;5;124m'\u001b[39m\u001b[38;5;124mcategorical\u001b[39m\u001b[38;5;124m'\u001b[39m: categorical,\n\u001b[1;32m     63\u001b[0m     \u001b[38;5;124m'\u001b[39m\u001b[38;5;124mmajority_label\u001b[39m\u001b[38;5;124m'\u001b[39m: \u001b[38;5;28;01mNone\u001b[39;00m,\n\u001b[0;32m---> 64\u001b[0m     \u001b[38;5;124m'\u001b[39m\u001b[38;5;124mleft\u001b[39m\u001b[38;5;124m'\u001b[39m: \u001b[43mbuild_tree_rf\u001b[49m\u001b[43m(\u001b[49m\u001b[43mn_features\u001b[49m\u001b[43m,\u001b[49m\u001b[43m \u001b[49m\u001b[43mX_l\u001b[49m\u001b[43m,\u001b[49m\u001b[43m \u001b[49m\u001b[43my_l\u001b[49m\u001b[43m,\u001b[49m\u001b[43m \u001b[49m\u001b[43mw_l\u001b[49m\u001b[43m,\u001b[49m\u001b[43m \u001b[49m\u001b[43mcolumns_dict\u001b[49m\u001b[43m,\u001b[49m\u001b[43m \u001b[49m\u001b[43mfeature_names\u001b[49m\u001b[43m,\u001b[49m\u001b[43m \u001b[49m\u001b[43mdepth\u001b[49m\u001b[43m \u001b[49m\u001b[38;5;241;43m+\u001b[39;49m\u001b[43m \u001b[49m\u001b[38;5;241;43m1\u001b[39;49m\u001b[43m,\u001b[49m\u001b[43m \u001b[49m\u001b[43mmax_depth\u001b[49m\u001b[43m,\u001b[49m\u001b[43m \u001b[49m\u001b[43mmin_samples_leaf\u001b[49m\u001b[43m)\u001b[49m,\n\u001b[1;32m     65\u001b[0m     \u001b[38;5;124m'\u001b[39m\u001b[38;5;124mright\u001b[39m\u001b[38;5;124m'\u001b[39m: build_tree_rf(n_features, X_r, y_r, w_r, columns_dict, feature_names, depth \u001b[38;5;241m+\u001b[39m \u001b[38;5;241m1\u001b[39m, max_depth, min_samples_leaf)\n\u001b[1;32m     66\u001b[0m }\n",
      "Input \u001b[0;32mIn [57]\u001b[0m, in \u001b[0;36mbuild_tree_rf\u001b[0;34m(n_features, X, y, sample_weights, columns_dict, feature_names, depth, max_depth, min_samples_leaf)\u001b[0m\n\u001b[1;32m     48\u001b[0m     \u001b[38;5;28;01mreturn\u001b[39;00m {\u001b[38;5;124m'\u001b[39m\u001b[38;5;124mmajority_label\u001b[39m\u001b[38;5;124m'\u001b[39m: majority_vote(y, sample_weights)}\n\u001b[1;32m     50\u001b[0m \u001b[38;5;28;01melse\u001b[39;00m:\n\u001b[0;32m---> 51\u001b[0m     cross_entropy, split_index, split_val \u001b[38;5;241m=\u001b[39m \u001b[43mcross_entropy_split_rf\u001b[49m\u001b[43m(\u001b[49m\u001b[43mn_features\u001b[49m\u001b[43m,\u001b[49m\u001b[43m \u001b[49m\u001b[43mX\u001b[49m\u001b[43m,\u001b[49m\u001b[43m \u001b[49m\u001b[43my\u001b[49m\u001b[43m,\u001b[49m\u001b[43m \u001b[49m\u001b[43msample_weights\u001b[49m\u001b[43m,\u001b[49m\u001b[43m \u001b[49m\u001b[43mcolumns_dict\u001b[49m\u001b[43m)\u001b[49m\n\u001b[1;32m     53\u001b[0m     \u001b[38;5;66;03m# If cross_entropy is infinity, it means that samples are not seperable by the sampled features.\u001b[39;00m\n\u001b[1;32m     54\u001b[0m     \u001b[38;5;28;01mif\u001b[39;00m cross_entropy \u001b[38;5;241m==\u001b[39m np\u001b[38;5;241m.\u001b[39minf:\n",
      "Input \u001b[0;32mIn [56]\u001b[0m, in \u001b[0;36mcross_entropy_split_rf\u001b[0;34m(n_features, X, y, sample_weights, columns_dict)\u001b[0m\n\u001b[1;32m     20\u001b[0m     \u001b[38;5;28;01mcontinue\u001b[39;00m\n\u001b[1;32m     22\u001b[0m \u001b[38;5;66;03m# search for the best splitting value for the given column.\u001b[39;00m\n\u001b[0;32m---> 23\u001b[0m cross_entropy, val \u001b[38;5;241m=\u001b[39m \u001b[43mcross_entropy_split_value\u001b[49m\u001b[43m(\u001b[49m\u001b[43mX\u001b[49m\u001b[43m,\u001b[49m\u001b[43m \u001b[49m\u001b[43my\u001b[49m\u001b[43m,\u001b[49m\u001b[43m \u001b[49m\u001b[43msample_weights\u001b[49m\u001b[43m,\u001b[49m\u001b[43m \u001b[49m\u001b[43mcolumn\u001b[49m\u001b[43m,\u001b[49m\u001b[43m \u001b[49m\u001b[43mcategorical\u001b[49m\u001b[43m)\u001b[49m      \n\u001b[1;32m     24\u001b[0m \u001b[38;5;28;01mif\u001b[39;00m cross_entropy \u001b[38;5;241m<\u001b[39m min_cross_entropy:\n\u001b[1;32m     25\u001b[0m     min_cross_entropy, split_column, split_val \u001b[38;5;241m=\u001b[39m cross_entropy, column, val\n",
      "Input \u001b[0;32mIn [43]\u001b[0m, in \u001b[0;36mcross_entropy_split_value\u001b[0;34m(X, y, sample_weights, column, categorical)\u001b[0m\n\u001b[1;32m     27\u001b[0m p_left \u001b[38;5;241m=\u001b[39m \u001b[38;5;28msum\u001b[39m(w_l)\u001b[38;5;241m/\u001b[39m(\u001b[38;5;28msum\u001b[39m(w_l) \u001b[38;5;241m+\u001b[39m \u001b[38;5;28msum\u001b[39m(w_r))\n\u001b[1;32m     28\u001b[0m p_right \u001b[38;5;241m=\u001b[39m \u001b[38;5;241m1\u001b[39m \u001b[38;5;241m-\u001b[39m p_left\n\u001b[0;32m---> 29\u001b[0m new_cost \u001b[38;5;241m=\u001b[39m p_left \u001b[38;5;241m*\u001b[39m cross_entropy(y_l, w_l) \u001b[38;5;241m+\u001b[39m p_right \u001b[38;5;241m*\u001b[39m \u001b[43mcross_entropy\u001b[49m\u001b[43m(\u001b[49m\u001b[43my_r\u001b[49m\u001b[43m,\u001b[49m\u001b[43m \u001b[49m\u001b[43mw_r\u001b[49m\u001b[43m)\u001b[49m\n\u001b[1;32m     30\u001b[0m \u001b[38;5;28;01mif\u001b[39;00m new_cost \u001b[38;5;241m<\u001b[39m cross_entropy_val:\n\u001b[1;32m     31\u001b[0m     cross_entropy_val, threshold \u001b[38;5;241m=\u001b[39m new_cost, value\n",
      "Input \u001b[0;32mIn [40]\u001b[0m, in \u001b[0;36mcross_entropy\u001b[0;34m(y, sample_weights)\u001b[0m\n\u001b[1;32m     13\u001b[0m label_weights \u001b[38;5;241m=\u001b[39m {yi: \u001b[38;5;241m0\u001b[39m \u001b[38;5;28;01mfor\u001b[39;00m yi \u001b[38;5;129;01min\u001b[39;00m \u001b[38;5;28mset\u001b[39m(y)}  \n\u001b[1;32m     14\u001b[0m \u001b[38;5;28;01mfor\u001b[39;00m yi, wi \u001b[38;5;129;01min\u001b[39;00m \u001b[38;5;28mzip\u001b[39m(y, sample_weights):\n\u001b[0;32m---> 15\u001b[0m     label_weights[yi] \u001b[38;5;241m+\u001b[39m\u001b[38;5;241m=\u001b[39m wi\n\u001b[1;32m     17\u001b[0m total_weight \u001b[38;5;241m=\u001b[39m \u001b[38;5;28msum\u001b[39m(label_weights\u001b[38;5;241m.\u001b[39mvalues())\n\u001b[1;32m     18\u001b[0m cross_entropy_value \u001b[38;5;241m=\u001b[39m \u001b[38;5;241m0\u001b[39m\n",
      "\u001b[0;31mKeyboardInterrupt\u001b[0m: "
     ]
    }
   ],
   "source": [
    "%%time\n",
    "n_features = X.shape[1] // 3\n",
    "B = 50\n",
    "# fit the random forest with training data\n",
    "rf = train_rf(B, n_features, X, y, columns_dict)"
   ]
  },
  {
   "cell_type": "code",
   "execution_count": null,
   "metadata": {},
   "outputs": [],
   "source": [
    "rf_score(rf, X.to_numpy(), y)"
   ]
  },
  {
   "cell_type": "markdown",
   "metadata": {
    "id": "vfN9uz1qy1L4"
   },
   "source": [
    "<a name=\"q23\"></a>\n",
    "\n",
    "## 2.3 Support Vector Machine (SVM) [^](#outline)"
   ]
  },
  {
   "cell_type": "markdown",
   "metadata": {
    "id": "MlwygRTDy1fb"
   },
   "source": [
    "<a name=\"task-3\"></a>\n",
    "\n",
    "# Task 3: Mastery Component [^](#outline)"
   ]
  },
  {
   "cell_type": "markdown",
   "metadata": {
    "id": "NdYowG2Ny1qx"
   },
   "source": [
    "<a name=\"q31\"></a>\n",
    "\n",
    "## 3.1 Logistic Regression and Bagging [^](#outline)"
   ]
  },
  {
   "cell_type": "markdown",
   "metadata": {
    "id": "9XbuLm6qy100"
   },
   "source": [
    "<a name=\"q32\"></a>\n",
    "\n",
    "## 3.2 Kernelised SVM Classifier [^](#outline)"
   ]
  }
 ],
 "metadata": {
  "colab": {
   "collapsed_sections": [],
   "name": "SurnameCID_CW1.ipynb",
   "provenance": []
  },
  "kernelspec": {
   "display_name": "Python 3 (ipykernel)",
   "language": "python",
   "name": "python3"
  },
  "language_info": {
   "codemirror_mode": {
    "name": "ipython",
    "version": 3
   },
   "file_extension": ".py",
   "mimetype": "text/x-python",
   "name": "python",
   "nbconvert_exporter": "python",
   "pygments_lexer": "ipython3",
   "version": "3.8.10"
  }
 },
 "nbformat": 4,
 "nbformat_minor": 4
}
